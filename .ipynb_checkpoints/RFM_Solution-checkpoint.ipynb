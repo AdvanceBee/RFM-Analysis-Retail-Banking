{
 "cells": [
  {
   "cell_type": "markdown",
   "id": "edfdb10f-b63a-4e68-a1db-0926ae0f32b1",
   "metadata": {},
   "source": [
    "#Import libraries"
   ]
  },
  {
   "cell_type": "code",
   "execution_count": 1,
   "id": "28fdb77f-4e24-4c7a-aa69-e415a812b5c4",
   "metadata": {},
   "outputs": [],
   "source": [
    "import numpy as np\n",
    "import pandas as pd\n",
    "import matplotlib.pyplot as plt\n",
    "import seaborn as sns"
   ]
  },
  {
   "cell_type": "code",
   "execution_count": 2,
   "id": "3bd56637-6411-4ea5-9a71-d3750a8e2b0d",
   "metadata": {},
   "outputs": [],
   "source": [
    "# Load dataset"
   ]
  },
  {
   "cell_type": "code",
   "execution_count": 4,
   "id": "93d00bd6-a8cc-49f6-ad12-378308eba2df",
   "metadata": {},
   "outputs": [],
   "source": [
    "data = pd.read_csv(\"bank_data_C.csv\")"
   ]
  },
  {
   "cell_type": "code",
   "execution_count": 5,
   "id": "ae7a5a07-194b-437f-b5e5-5fb3a78ee851",
   "metadata": {},
   "outputs": [
    {
     "data": {
      "text/html": [
       "<div>\n",
       "<style scoped>\n",
       "    .dataframe tbody tr th:only-of-type {\n",
       "        vertical-align: middle;\n",
       "    }\n",
       "\n",
       "    .dataframe tbody tr th {\n",
       "        vertical-align: top;\n",
       "    }\n",
       "\n",
       "    .dataframe thead th {\n",
       "        text-align: right;\n",
       "    }\n",
       "</style>\n",
       "<table border=\"1\" class=\"dataframe\">\n",
       "  <thead>\n",
       "    <tr style=\"text-align: right;\">\n",
       "      <th></th>\n",
       "      <th>TransactionID</th>\n",
       "      <th>CustomerID</th>\n",
       "      <th>CustomerDOB</th>\n",
       "      <th>CustGender</th>\n",
       "      <th>CustLocation</th>\n",
       "      <th>CustAccountBalance</th>\n",
       "      <th>TransactionDate</th>\n",
       "      <th>TransactionTime</th>\n",
       "      <th>TransactionAmount (INR)</th>\n",
       "    </tr>\n",
       "  </thead>\n",
       "  <tbody>\n",
       "    <tr>\n",
       "      <th>0</th>\n",
       "      <td>T1</td>\n",
       "      <td>C5841053</td>\n",
       "      <td>10/1/94</td>\n",
       "      <td>F</td>\n",
       "      <td>JAMSHEDPUR</td>\n",
       "      <td>17819.05</td>\n",
       "      <td>2/8/16</td>\n",
       "      <td>143207</td>\n",
       "      <td>25.0</td>\n",
       "    </tr>\n",
       "    <tr>\n",
       "      <th>1</th>\n",
       "      <td>T2</td>\n",
       "      <td>C2142763</td>\n",
       "      <td>4/4/57</td>\n",
       "      <td>M</td>\n",
       "      <td>JHAJJAR</td>\n",
       "      <td>2270.69</td>\n",
       "      <td>2/8/16</td>\n",
       "      <td>141858</td>\n",
       "      <td>27999.0</td>\n",
       "    </tr>\n",
       "    <tr>\n",
       "      <th>2</th>\n",
       "      <td>T3</td>\n",
       "      <td>C4417068</td>\n",
       "      <td>26/11/96</td>\n",
       "      <td>F</td>\n",
       "      <td>MUMBAI</td>\n",
       "      <td>17874.44</td>\n",
       "      <td>2/8/16</td>\n",
       "      <td>142712</td>\n",
       "      <td>459.0</td>\n",
       "    </tr>\n",
       "    <tr>\n",
       "      <th>3</th>\n",
       "      <td>T4</td>\n",
       "      <td>C5342380</td>\n",
       "      <td>14/9/73</td>\n",
       "      <td>F</td>\n",
       "      <td>MUMBAI</td>\n",
       "      <td>866503.21</td>\n",
       "      <td>2/8/16</td>\n",
       "      <td>142714</td>\n",
       "      <td>2060.0</td>\n",
       "    </tr>\n",
       "    <tr>\n",
       "      <th>4</th>\n",
       "      <td>T5</td>\n",
       "      <td>C9031234</td>\n",
       "      <td>24/3/88</td>\n",
       "      <td>F</td>\n",
       "      <td>NAVI MUMBAI</td>\n",
       "      <td>6714.43</td>\n",
       "      <td>2/8/16</td>\n",
       "      <td>181156</td>\n",
       "      <td>1762.5</td>\n",
       "    </tr>\n",
       "  </tbody>\n",
       "</table>\n",
       "</div>"
      ],
      "text/plain": [
       "  TransactionID CustomerID CustomerDOB CustGender CustLocation  \\\n",
       "0            T1   C5841053     10/1/94          F   JAMSHEDPUR   \n",
       "1            T2   C2142763      4/4/57          M      JHAJJAR   \n",
       "2            T3   C4417068    26/11/96          F       MUMBAI   \n",
       "3            T4   C5342380     14/9/73          F       MUMBAI   \n",
       "4            T5   C9031234     24/3/88          F  NAVI MUMBAI   \n",
       "\n",
       "   CustAccountBalance TransactionDate  TransactionTime  \\\n",
       "0            17819.05          2/8/16           143207   \n",
       "1             2270.69          2/8/16           141858   \n",
       "2            17874.44          2/8/16           142712   \n",
       "3           866503.21          2/8/16           142714   \n",
       "4             6714.43          2/8/16           181156   \n",
       "\n",
       "   TransactionAmount (INR)  \n",
       "0                     25.0  \n",
       "1                  27999.0  \n",
       "2                    459.0  \n",
       "3                   2060.0  \n",
       "4                   1762.5  "
      ]
     },
     "execution_count": 5,
     "metadata": {},
     "output_type": "execute_result"
    }
   ],
   "source": [
    "data.head()"
   ]
  },
  {
   "cell_type": "code",
   "execution_count": 6,
   "id": "8fd1a609-83f1-438b-8ae1-c63b38e67248",
   "metadata": {},
   "outputs": [
    {
     "data": {
      "text/html": [
       "<div>\n",
       "<style scoped>\n",
       "    .dataframe tbody tr th:only-of-type {\n",
       "        vertical-align: middle;\n",
       "    }\n",
       "\n",
       "    .dataframe tbody tr th {\n",
       "        vertical-align: top;\n",
       "    }\n",
       "\n",
       "    .dataframe thead th {\n",
       "        text-align: right;\n",
       "    }\n",
       "</style>\n",
       "<table border=\"1\" class=\"dataframe\">\n",
       "  <thead>\n",
       "    <tr style=\"text-align: right;\">\n",
       "      <th></th>\n",
       "      <th>TransactionID</th>\n",
       "      <th>CustomerID</th>\n",
       "      <th>CustomerDOB</th>\n",
       "      <th>CustGender</th>\n",
       "      <th>CustLocation</th>\n",
       "      <th>CustAccountBalance</th>\n",
       "      <th>TransactionDate</th>\n",
       "      <th>TransactionTime</th>\n",
       "      <th>TransactionAmount (INR)</th>\n",
       "    </tr>\n",
       "  </thead>\n",
       "  <tbody>\n",
       "    <tr>\n",
       "      <th>count</th>\n",
       "      <td>1041614</td>\n",
       "      <td>1041614</td>\n",
       "      <td>1041614</td>\n",
       "      <td>1041614</td>\n",
       "      <td>1041614</td>\n",
       "      <td>1.041614e+06</td>\n",
       "      <td>1041614</td>\n",
       "      <td>1.041614e+06</td>\n",
       "      <td>1.041614e+06</td>\n",
       "    </tr>\n",
       "    <tr>\n",
       "      <th>unique</th>\n",
       "      <td>1041614</td>\n",
       "      <td>879358</td>\n",
       "      <td>17233</td>\n",
       "      <td>3</td>\n",
       "      <td>9275</td>\n",
       "      <td>NaN</td>\n",
       "      <td>55</td>\n",
       "      <td>NaN</td>\n",
       "      <td>NaN</td>\n",
       "    </tr>\n",
       "    <tr>\n",
       "      <th>top</th>\n",
       "      <td>T1</td>\n",
       "      <td>C5533885</td>\n",
       "      <td>1/1/1800</td>\n",
       "      <td>M</td>\n",
       "      <td>MUMBAI</td>\n",
       "      <td>NaN</td>\n",
       "      <td>7/8/16</td>\n",
       "      <td>NaN</td>\n",
       "      <td>NaN</td>\n",
       "    </tr>\n",
       "    <tr>\n",
       "      <th>freq</th>\n",
       "      <td>1</td>\n",
       "      <td>6</td>\n",
       "      <td>56292</td>\n",
       "      <td>760978</td>\n",
       "      <td>101997</td>\n",
       "      <td>NaN</td>\n",
       "      <td>27084</td>\n",
       "      <td>NaN</td>\n",
       "      <td>NaN</td>\n",
       "    </tr>\n",
       "    <tr>\n",
       "      <th>mean</th>\n",
       "      <td>NaN</td>\n",
       "      <td>NaN</td>\n",
       "      <td>NaN</td>\n",
       "      <td>NaN</td>\n",
       "      <td>NaN</td>\n",
       "      <td>1.149986e+05</td>\n",
       "      <td>NaN</td>\n",
       "      <td>1.571221e+05</td>\n",
       "      <td>1.566096e+03</td>\n",
       "    </tr>\n",
       "    <tr>\n",
       "      <th>std</th>\n",
       "      <td>NaN</td>\n",
       "      <td>NaN</td>\n",
       "      <td>NaN</td>\n",
       "      <td>NaN</td>\n",
       "      <td>NaN</td>\n",
       "      <td>8.467609e+05</td>\n",
       "      <td>NaN</td>\n",
       "      <td>5.126352e+04</td>\n",
       "      <td>6.561464e+03</td>\n",
       "    </tr>\n",
       "    <tr>\n",
       "      <th>min</th>\n",
       "      <td>NaN</td>\n",
       "      <td>NaN</td>\n",
       "      <td>NaN</td>\n",
       "      <td>NaN</td>\n",
       "      <td>NaN</td>\n",
       "      <td>0.000000e+00</td>\n",
       "      <td>NaN</td>\n",
       "      <td>0.000000e+00</td>\n",
       "      <td>0.000000e+00</td>\n",
       "    </tr>\n",
       "    <tr>\n",
       "      <th>25%</th>\n",
       "      <td>NaN</td>\n",
       "      <td>NaN</td>\n",
       "      <td>NaN</td>\n",
       "      <td>NaN</td>\n",
       "      <td>NaN</td>\n",
       "      <td>4.728140e+03</td>\n",
       "      <td>NaN</td>\n",
       "      <td>1.240410e+05</td>\n",
       "      <td>1.600000e+02</td>\n",
       "    </tr>\n",
       "    <tr>\n",
       "      <th>50%</th>\n",
       "      <td>NaN</td>\n",
       "      <td>NaN</td>\n",
       "      <td>NaN</td>\n",
       "      <td>NaN</td>\n",
       "      <td>NaN</td>\n",
       "      <td>1.676852e+04</td>\n",
       "      <td>NaN</td>\n",
       "      <td>1.642470e+05</td>\n",
       "      <td>4.575000e+02</td>\n",
       "    </tr>\n",
       "    <tr>\n",
       "      <th>75%</th>\n",
       "      <td>NaN</td>\n",
       "      <td>NaN</td>\n",
       "      <td>NaN</td>\n",
       "      <td>NaN</td>\n",
       "      <td>NaN</td>\n",
       "      <td>5.742885e+04</td>\n",
       "      <td>NaN</td>\n",
       "      <td>2.000220e+05</td>\n",
       "      <td>1.200000e+03</td>\n",
       "    </tr>\n",
       "    <tr>\n",
       "      <th>max</th>\n",
       "      <td>NaN</td>\n",
       "      <td>NaN</td>\n",
       "      <td>NaN</td>\n",
       "      <td>NaN</td>\n",
       "      <td>NaN</td>\n",
       "      <td>1.150355e+08</td>\n",
       "      <td>NaN</td>\n",
       "      <td>2.359590e+05</td>\n",
       "      <td>1.560035e+06</td>\n",
       "    </tr>\n",
       "  </tbody>\n",
       "</table>\n",
       "</div>"
      ],
      "text/plain": [
       "       TransactionID CustomerID CustomerDOB CustGender CustLocation  \\\n",
       "count        1041614    1041614     1041614    1041614      1041614   \n",
       "unique       1041614     879358       17233          3         9275   \n",
       "top               T1   C5533885    1/1/1800          M       MUMBAI   \n",
       "freq               1          6       56292     760978       101997   \n",
       "mean             NaN        NaN         NaN        NaN          NaN   \n",
       "std              NaN        NaN         NaN        NaN          NaN   \n",
       "min              NaN        NaN         NaN        NaN          NaN   \n",
       "25%              NaN        NaN         NaN        NaN          NaN   \n",
       "50%              NaN        NaN         NaN        NaN          NaN   \n",
       "75%              NaN        NaN         NaN        NaN          NaN   \n",
       "max              NaN        NaN         NaN        NaN          NaN   \n",
       "\n",
       "        CustAccountBalance TransactionDate  TransactionTime  \\\n",
       "count         1.041614e+06         1041614     1.041614e+06   \n",
       "unique                 NaN              55              NaN   \n",
       "top                    NaN          7/8/16              NaN   \n",
       "freq                   NaN           27084              NaN   \n",
       "mean          1.149986e+05             NaN     1.571221e+05   \n",
       "std           8.467609e+05             NaN     5.126352e+04   \n",
       "min           0.000000e+00             NaN     0.000000e+00   \n",
       "25%           4.728140e+03             NaN     1.240410e+05   \n",
       "50%           1.676852e+04             NaN     1.642470e+05   \n",
       "75%           5.742885e+04             NaN     2.000220e+05   \n",
       "max           1.150355e+08             NaN     2.359590e+05   \n",
       "\n",
       "        TransactionAmount (INR)  \n",
       "count              1.041614e+06  \n",
       "unique                      NaN  \n",
       "top                         NaN  \n",
       "freq                        NaN  \n",
       "mean               1.566096e+03  \n",
       "std                6.561464e+03  \n",
       "min                0.000000e+00  \n",
       "25%                1.600000e+02  \n",
       "50%                4.575000e+02  \n",
       "75%                1.200000e+03  \n",
       "max                1.560035e+06  "
      ]
     },
     "execution_count": 6,
     "metadata": {},
     "output_type": "execute_result"
    }
   ],
   "source": [
    "data.describe(include=\"all\")"
   ]
  },
  {
   "cell_type": "code",
   "execution_count": 7,
   "id": "9e2d3c77-1742-4f5f-aebc-e6a5fb89aef4",
   "metadata": {},
   "outputs": [
    {
     "data": {
      "text/plain": [
       "TransactionID               object\n",
       "CustomerID                  object\n",
       "CustomerDOB                 object\n",
       "CustGender                  object\n",
       "CustLocation                object\n",
       "CustAccountBalance         float64\n",
       "TransactionDate             object\n",
       "TransactionTime              int64\n",
       "TransactionAmount (INR)    float64\n",
       "dtype: object"
      ]
     },
     "execution_count": 7,
     "metadata": {},
     "output_type": "execute_result"
    }
   ],
   "source": [
    "data.dtypes"
   ]
  },
  {
   "cell_type": "code",
   "execution_count": 8,
   "id": "1c8077b4-15e4-4f73-8f2c-df3fdefa0bbe",
   "metadata": {},
   "outputs": [
    {
     "name": "stdout",
     "output_type": "stream",
     "text": [
      "<class 'pandas.core.frame.DataFrame'>\n",
      "RangeIndex: 1041614 entries, 0 to 1041613\n",
      "Data columns (total 9 columns):\n",
      " #   Column                   Non-Null Count    Dtype  \n",
      "---  ------                   --------------    -----  \n",
      " 0   TransactionID            1041614 non-null  object \n",
      " 1   CustomerID               1041614 non-null  object \n",
      " 2   CustomerDOB              1041614 non-null  object \n",
      " 3   CustGender               1041614 non-null  object \n",
      " 4   CustLocation             1041614 non-null  object \n",
      " 5   CustAccountBalance       1041614 non-null  float64\n",
      " 6   TransactionDate          1041614 non-null  object \n",
      " 7   TransactionTime          1041614 non-null  int64  \n",
      " 8   TransactionAmount (INR)  1041614 non-null  float64\n",
      "dtypes: float64(2), int64(1), object(6)\n",
      "memory usage: 71.5+ MB\n"
     ]
    }
   ],
   "source": [
    "data.info()\n"
   ]
  },
  {
   "cell_type": "markdown",
   "id": "6fc44b69-14b4-42bd-b923-fda4441c2195",
   "metadata": {},
   "source": [
    "# Data Cleaning"
   ]
  },
  {
   "cell_type": "code",
   "execution_count": 10,
   "id": "a51b7d11-cd74-4a18-bf59-dff51d085c2a",
   "metadata": {
    "scrolled": true
   },
   "outputs": [
    {
     "data": {
      "text/html": [
       "<div>\n",
       "<style scoped>\n",
       "    .dataframe tbody tr th:only-of-type {\n",
       "        vertical-align: middle;\n",
       "    }\n",
       "\n",
       "    .dataframe tbody tr th {\n",
       "        vertical-align: top;\n",
       "    }\n",
       "\n",
       "    .dataframe thead th {\n",
       "        text-align: right;\n",
       "    }\n",
       "</style>\n",
       "<table border=\"1\" class=\"dataframe\">\n",
       "  <thead>\n",
       "    <tr style=\"text-align: right;\">\n",
       "      <th></th>\n",
       "      <th>TransactionID</th>\n",
       "      <th>CustomerID</th>\n",
       "      <th>CustomerDOB</th>\n",
       "      <th>CustGender</th>\n",
       "      <th>CustLocation</th>\n",
       "      <th>CustAccountBalance</th>\n",
       "      <th>TransactionDate</th>\n",
       "      <th>TransactionTime</th>\n",
       "      <th>TransactionAmount (INR)</th>\n",
       "    </tr>\n",
       "  </thead>\n",
       "  <tbody>\n",
       "    <tr>\n",
       "      <th>0</th>\n",
       "      <td>T1</td>\n",
       "      <td>C5841053</td>\n",
       "      <td>10/1/94</td>\n",
       "      <td>F</td>\n",
       "      <td>JAMSHEDPUR</td>\n",
       "      <td>17819.05</td>\n",
       "      <td>2/8/16</td>\n",
       "      <td>143207</td>\n",
       "      <td>25.0</td>\n",
       "    </tr>\n",
       "    <tr>\n",
       "      <th>1</th>\n",
       "      <td>T2</td>\n",
       "      <td>C2142763</td>\n",
       "      <td>4/4/57</td>\n",
       "      <td>M</td>\n",
       "      <td>JHAJJAR</td>\n",
       "      <td>2270.69</td>\n",
       "      <td>2/8/16</td>\n",
       "      <td>141858</td>\n",
       "      <td>27999.0</td>\n",
       "    </tr>\n",
       "  </tbody>\n",
       "</table>\n",
       "</div>"
      ],
      "text/plain": [
       "  TransactionID CustomerID CustomerDOB CustGender CustLocation  \\\n",
       "0            T1   C5841053     10/1/94          F   JAMSHEDPUR   \n",
       "1            T2   C2142763      4/4/57          M      JHAJJAR   \n",
       "\n",
       "   CustAccountBalance TransactionDate  TransactionTime  \\\n",
       "0            17819.05          2/8/16           143207   \n",
       "1             2270.69          2/8/16           141858   \n",
       "\n",
       "   TransactionAmount (INR)  \n",
       "0                     25.0  \n",
       "1                  27999.0  "
      ]
     },
     "execution_count": 10,
     "metadata": {},
     "output_type": "execute_result"
    }
   ],
   "source": [
    "data.head(2)"
   ]
  },
  {
   "cell_type": "code",
   "execution_count": 11,
   "id": "2838ee6d-1223-4e05-9422-d6a588694324",
   "metadata": {},
   "outputs": [
    {
     "data": {
      "text/plain": [
       "TransactionID              0\n",
       "CustomerID                 0\n",
       "CustomerDOB                0\n",
       "CustGender                 0\n",
       "CustLocation               0\n",
       "CustAccountBalance         0\n",
       "TransactionDate            0\n",
       "TransactionTime            0\n",
       "TransactionAmount (INR)    0\n",
       "dtype: int64"
      ]
     },
     "execution_count": 11,
     "metadata": {},
     "output_type": "execute_result"
    }
   ],
   "source": [
    "data.isnull().sum()"
   ]
  },
  {
   "cell_type": "code",
   "execution_count": null,
   "id": "242d8629-99b1-4d8b-847c-970cb32231c0",
   "metadata": {},
   "outputs": [],
   "source": [
    "# Convert DOB and TransactionDate to datetime objects\n",
    "data[\"CustomerDOB\"] = pd.to_datetime(data[\"CustomerDOB\"])\n",
    "data[\"TransactionDate\"] = pd.to_datetime(data[\"TransactionDate\"], format=\"%d-%m-%Y\")\n"
   ]
  },
  {
   "cell_type": "code",
   "execution_count": 15,
   "id": "491b1d37-79b2-4cdb-a127-2e6930c46c1a",
   "metadata": {},
   "outputs": [
    {
     "data": {
      "text/plain": [
       "array(['2/8/16', '1/8/16', '3/8/16', '5/8/16', '4/8/16', '6/8/16',\n",
       "       '9/8/16', '8/8/16', '12/8/16', '7/8/16', '21/10/16', '16/10/16',\n",
       "       '10/8/16', '14/8/16', '17/8/16', '21/8/16', '19/8/16', '24/8/16',\n",
       "       '22/8/16', '29/8/16', '31/8/16', '22/9/16', '23/9/16', '13/8/16',\n",
       "       '25/8/16', '28/8/16', '15/8/16', '27/8/16', '20/8/16', '23/8/16',\n",
       "       '30/8/16', '11/8/16', '16/8/16', '26/8/16', '27/9/16', '18/8/16',\n",
       "       '25/9/16', '26/9/16', '30/9/16', '3/9/16', '2/9/16', '1/9/16',\n",
       "       '6/9/16', '5/9/16', '4/9/16', '9/9/16', '8/9/16', '7/9/16',\n",
       "       '12/9/16', '11/9/16', '10/9/16', '15/9/16', '14/9/16', '13/9/16',\n",
       "       '18/9/16'], dtype=object)"
      ]
     },
     "execution_count": 15,
     "metadata": {},
     "output_type": "execute_result"
    }
   ],
   "source": [
    "data[\"TransactionDate\"].unique()"
   ]
  },
  {
   "cell_type": "markdown",
   "id": "53a1a6da-bef3-49b6-a624-6589c888d159",
   "metadata": {},
   "source": [
    "*Create a new column for customer age*"
   ]
  },
  {
   "cell_type": "code",
   "execution_count": 20,
   "id": "ee34788b-aa19-40ef-8db7-63ad19519fd6",
   "metadata": {},
   "outputs": [],
   "source": [
    "def calculate_age(data):\n",
    "    # Subtract year of birth from transaction year\n",
    "    data[\"age\"] = data[\"TransactionDate\"].dt.year - data[\"CustomerDOB\"].dt.year\n",
    "    return data"
   ]
  },
  {
   "cell_type": "code",
   "execution_count": 26,
   "id": "754c04f5-6065-47a8-9dcc-8f56575bee83",
   "metadata": {},
   "outputs": [],
   "source": [
    "data = calculate_age(data)"
   ]
  },
  {
   "cell_type": "code",
   "execution_count": 27,
   "id": "5488921e-f035-4df1-8679-b5bd73653574",
   "metadata": {},
   "outputs": [
    {
     "data": {
      "text/html": [
       "<div>\n",
       "<style scoped>\n",
       "    .dataframe tbody tr th:only-of-type {\n",
       "        vertical-align: middle;\n",
       "    }\n",
       "\n",
       "    .dataframe tbody tr th {\n",
       "        vertical-align: top;\n",
       "    }\n",
       "\n",
       "    .dataframe thead th {\n",
       "        text-align: right;\n",
       "    }\n",
       "</style>\n",
       "<table border=\"1\" class=\"dataframe\">\n",
       "  <thead>\n",
       "    <tr style=\"text-align: right;\">\n",
       "      <th></th>\n",
       "      <th>TransactionID</th>\n",
       "      <th>CustomerID</th>\n",
       "      <th>CustomerDOB</th>\n",
       "      <th>CustGender</th>\n",
       "      <th>CustLocation</th>\n",
       "      <th>CustAccountBalance</th>\n",
       "      <th>TransactionDate</th>\n",
       "      <th>TransactionTime</th>\n",
       "      <th>TransactionAmount (INR)</th>\n",
       "      <th>age</th>\n",
       "    </tr>\n",
       "  </thead>\n",
       "  <tbody>\n",
       "    <tr>\n",
       "      <th>0</th>\n",
       "      <td>T1</td>\n",
       "      <td>C5841053</td>\n",
       "      <td>1994-10-01</td>\n",
       "      <td>F</td>\n",
       "      <td>JAMSHEDPUR</td>\n",
       "      <td>17819.05</td>\n",
       "      <td>2016-02-08</td>\n",
       "      <td>143207</td>\n",
       "      <td>25.0</td>\n",
       "      <td>22</td>\n",
       "    </tr>\n",
       "    <tr>\n",
       "      <th>1</th>\n",
       "      <td>T2</td>\n",
       "      <td>C2142763</td>\n",
       "      <td>2057-04-04</td>\n",
       "      <td>M</td>\n",
       "      <td>JHAJJAR</td>\n",
       "      <td>2270.69</td>\n",
       "      <td>2016-02-08</td>\n",
       "      <td>141858</td>\n",
       "      <td>27999.0</td>\n",
       "      <td>-41</td>\n",
       "    </tr>\n",
       "    <tr>\n",
       "      <th>2</th>\n",
       "      <td>T3</td>\n",
       "      <td>C4417068</td>\n",
       "      <td>1996-11-26</td>\n",
       "      <td>F</td>\n",
       "      <td>MUMBAI</td>\n",
       "      <td>17874.44</td>\n",
       "      <td>2016-02-08</td>\n",
       "      <td>142712</td>\n",
       "      <td>459.0</td>\n",
       "      <td>20</td>\n",
       "    </tr>\n",
       "    <tr>\n",
       "      <th>3</th>\n",
       "      <td>T4</td>\n",
       "      <td>C5342380</td>\n",
       "      <td>2073-09-14</td>\n",
       "      <td>F</td>\n",
       "      <td>MUMBAI</td>\n",
       "      <td>866503.21</td>\n",
       "      <td>2016-02-08</td>\n",
       "      <td>142714</td>\n",
       "      <td>2060.0</td>\n",
       "      <td>-57</td>\n",
       "    </tr>\n",
       "    <tr>\n",
       "      <th>4</th>\n",
       "      <td>T5</td>\n",
       "      <td>C9031234</td>\n",
       "      <td>1988-03-24</td>\n",
       "      <td>F</td>\n",
       "      <td>NAVI MUMBAI</td>\n",
       "      <td>6714.43</td>\n",
       "      <td>2016-02-08</td>\n",
       "      <td>181156</td>\n",
       "      <td>1762.5</td>\n",
       "      <td>28</td>\n",
       "    </tr>\n",
       "  </tbody>\n",
       "</table>\n",
       "</div>"
      ],
      "text/plain": [
       "  TransactionID CustomerID CustomerDOB CustGender CustLocation  \\\n",
       "0            T1   C5841053  1994-10-01          F   JAMSHEDPUR   \n",
       "1            T2   C2142763  2057-04-04          M      JHAJJAR   \n",
       "2            T3   C4417068  1996-11-26          F       MUMBAI   \n",
       "3            T4   C5342380  2073-09-14          F       MUMBAI   \n",
       "4            T5   C9031234  1988-03-24          F  NAVI MUMBAI   \n",
       "\n",
       "   CustAccountBalance TransactionDate  TransactionTime  \\\n",
       "0            17819.05      2016-02-08           143207   \n",
       "1             2270.69      2016-02-08           141858   \n",
       "2            17874.44      2016-02-08           142712   \n",
       "3           866503.21      2016-02-08           142714   \n",
       "4             6714.43      2016-02-08           181156   \n",
       "\n",
       "   TransactionAmount (INR)  age  \n",
       "0                     25.0   22  \n",
       "1                  27999.0  -41  \n",
       "2                    459.0   20  \n",
       "3                   2060.0  -57  \n",
       "4                   1762.5   28  "
      ]
     },
     "execution_count": 27,
     "metadata": {},
     "output_type": "execute_result"
    }
   ],
   "source": [
    "data.head()"
   ]
  },
  {
   "cell_type": "markdown",
   "id": "2d81da67-e821-4a62-b59a-d8c50d2dd27e",
   "metadata": {},
   "source": [
    "**Observe and correct customer with negative age values**"
   ]
  },
  {
   "cell_type": "code",
   "execution_count": 30,
   "id": "f68a9103-8745-4545-a70e-554835013007",
   "metadata": {},
   "outputs": [
    {
     "data": {
      "text/plain": [
       "1         2057-04-04\n",
       "3         2073-09-14\n",
       "5         2072-08-10\n",
       "15        2068-10-07\n",
       "29        2067-01-21\n",
       "             ...    \n",
       "1041553   2070-09-20\n",
       "1041557   2048-07-15\n",
       "1041583   2033-05-10\n",
       "1041591   2071-05-10\n",
       "1041599   2071-08-21\n",
       "Name: CustomerDOB, Length: 104836, dtype: datetime64[ns]"
      ]
     },
     "execution_count": 30,
     "metadata": {},
     "output_type": "execute_result"
    }
   ],
   "source": [
    "data[data[\"age\"] <= 0][\"CustomerDOB\"]\n"
   ]
  },
  {
   "cell_type": "code",
   "execution_count": 33,
   "id": "d7ee5b80-12c8-4f57-853b-48fe7415e034",
   "metadata": {},
   "outputs": [],
   "source": [
    "def adjust_year(date):\n",
    "    if pd.notnull(date) and date.year > 2016:\n",
    "        return date.replace(year=date.year - 100)\n",
    "    return date"
   ]
  },
  {
   "cell_type": "code",
   "execution_count": 38,
   "id": "417fab63-00d4-42f4-9bbb-a1e8348b3634",
   "metadata": {},
   "outputs": [],
   "source": [
    "data[\"CustomerDOB\"] = data[\"CustomerDOB\"].apply(adjust_year)\n"
   ]
  },
  {
   "cell_type": "code",
   "execution_count": 40,
   "id": "90d654e9-5fb5-49c5-8160-529ab1995971",
   "metadata": {},
   "outputs": [],
   "source": [
    "data = calculate_age(data)\n"
   ]
  },
  {
   "cell_type": "code",
   "execution_count": 41,
   "id": "49490345-617b-48d9-94ad-985b97a08615",
   "metadata": {},
   "outputs": [
    {
     "data": {
      "text/html": [
       "<div>\n",
       "<style scoped>\n",
       "    .dataframe tbody tr th:only-of-type {\n",
       "        vertical-align: middle;\n",
       "    }\n",
       "\n",
       "    .dataframe tbody tr th {\n",
       "        vertical-align: top;\n",
       "    }\n",
       "\n",
       "    .dataframe thead th {\n",
       "        text-align: right;\n",
       "    }\n",
       "</style>\n",
       "<table border=\"1\" class=\"dataframe\">\n",
       "  <thead>\n",
       "    <tr style=\"text-align: right;\">\n",
       "      <th></th>\n",
       "      <th>TransactionID</th>\n",
       "      <th>CustomerID</th>\n",
       "      <th>CustomerDOB</th>\n",
       "      <th>CustGender</th>\n",
       "      <th>CustLocation</th>\n",
       "      <th>CustAccountBalance</th>\n",
       "      <th>TransactionDate</th>\n",
       "      <th>TransactionTime</th>\n",
       "      <th>TransactionAmount (INR)</th>\n",
       "      <th>age</th>\n",
       "    </tr>\n",
       "  </thead>\n",
       "  <tbody>\n",
       "    <tr>\n",
       "      <th>0</th>\n",
       "      <td>T1</td>\n",
       "      <td>C5841053</td>\n",
       "      <td>1994-10-01</td>\n",
       "      <td>F</td>\n",
       "      <td>JAMSHEDPUR</td>\n",
       "      <td>17819.05</td>\n",
       "      <td>2016-02-08</td>\n",
       "      <td>143207</td>\n",
       "      <td>25.0</td>\n",
       "      <td>22</td>\n",
       "    </tr>\n",
       "    <tr>\n",
       "      <th>1</th>\n",
       "      <td>T2</td>\n",
       "      <td>C2142763</td>\n",
       "      <td>1957-04-04</td>\n",
       "      <td>M</td>\n",
       "      <td>JHAJJAR</td>\n",
       "      <td>2270.69</td>\n",
       "      <td>2016-02-08</td>\n",
       "      <td>141858</td>\n",
       "      <td>27999.0</td>\n",
       "      <td>59</td>\n",
       "    </tr>\n",
       "    <tr>\n",
       "      <th>2</th>\n",
       "      <td>T3</td>\n",
       "      <td>C4417068</td>\n",
       "      <td>1996-11-26</td>\n",
       "      <td>F</td>\n",
       "      <td>MUMBAI</td>\n",
       "      <td>17874.44</td>\n",
       "      <td>2016-02-08</td>\n",
       "      <td>142712</td>\n",
       "      <td>459.0</td>\n",
       "      <td>20</td>\n",
       "    </tr>\n",
       "    <tr>\n",
       "      <th>3</th>\n",
       "      <td>T4</td>\n",
       "      <td>C5342380</td>\n",
       "      <td>1973-09-14</td>\n",
       "      <td>F</td>\n",
       "      <td>MUMBAI</td>\n",
       "      <td>866503.21</td>\n",
       "      <td>2016-02-08</td>\n",
       "      <td>142714</td>\n",
       "      <td>2060.0</td>\n",
       "      <td>43</td>\n",
       "    </tr>\n",
       "    <tr>\n",
       "      <th>4</th>\n",
       "      <td>T5</td>\n",
       "      <td>C9031234</td>\n",
       "      <td>1988-03-24</td>\n",
       "      <td>F</td>\n",
       "      <td>NAVI MUMBAI</td>\n",
       "      <td>6714.43</td>\n",
       "      <td>2016-02-08</td>\n",
       "      <td>181156</td>\n",
       "      <td>1762.5</td>\n",
       "      <td>28</td>\n",
       "    </tr>\n",
       "  </tbody>\n",
       "</table>\n",
       "</div>"
      ],
      "text/plain": [
       "  TransactionID CustomerID CustomerDOB CustGender CustLocation  \\\n",
       "0            T1   C5841053  1994-10-01          F   JAMSHEDPUR   \n",
       "1            T2   C2142763  1957-04-04          M      JHAJJAR   \n",
       "2            T3   C4417068  1996-11-26          F       MUMBAI   \n",
       "3            T4   C5342380  1973-09-14          F       MUMBAI   \n",
       "4            T5   C9031234  1988-03-24          F  NAVI MUMBAI   \n",
       "\n",
       "   CustAccountBalance TransactionDate  TransactionTime  \\\n",
       "0            17819.05      2016-02-08           143207   \n",
       "1             2270.69      2016-02-08           141858   \n",
       "2            17874.44      2016-02-08           142712   \n",
       "3           866503.21      2016-02-08           142714   \n",
       "4             6714.43      2016-02-08           181156   \n",
       "\n",
       "   TransactionAmount (INR)  age  \n",
       "0                     25.0   22  \n",
       "1                  27999.0   59  \n",
       "2                    459.0   20  \n",
       "3                   2060.0   43  \n",
       "4                   1762.5   28  "
      ]
     },
     "execution_count": 41,
     "metadata": {},
     "output_type": "execute_result"
    }
   ],
   "source": [
    "data.head()"
   ]
  },
  {
   "cell_type": "code",
   "execution_count": 45,
   "id": "a295d086-959d-41c0-95b9-fb328c93e9aa",
   "metadata": {},
   "outputs": [
    {
     "data": {
      "image/png": "[encoded data removed]",
      "text/plain": [
       "<Figure size 1200x800 with 1 Axes>"
      ]
     },
     "metadata": {},
     "output_type": "display_data"
    }
   ],
   "source": [
    "import matplotlib.pyplot as plt\n",
    "import seaborn as sns\n",
    "\n",
    "# Plotting Age Distribution\n",
    "plt.figure(figsize=(12, 8))\n",
    "sns.histplot(data[\"age\"], bins=10, kde=False)\n",
    "plt.xlabel(\"Age\")           # <-- corrected from zlabel to xlabel\n",
    "plt.ylabel(\"Frequency\")     \n",
    "plt.title(\"Age Distribution\")\n",
    "plt.show()"
   ]
  },
  {
   "cell_type": "code",
   "execution_count": 47,
   "id": "8b11e5cf-5797-40d9-8814-c8b737fd47da",
   "metadata": {},
   "outputs": [
    {
     "data": {
      "text/plain": [
       "<DatetimeArray>\n",
       "['1800-01-01 00:00:00']\n",
       "Length: 1, dtype: datetime64[ns]"
      ]
     },
     "execution_count": 47,
     "metadata": {},
     "output_type": "execute_result"
    }
   ],
   "source": [
    "data[data[\"age\"] > 100][\"CustomerDOB\"].unique()\n"
   ]
  },
  {
   "cell_type": "code",
   "execution_count": 49,
   "id": "c8332184-da94-425d-9316-47c1c3e827bb",
   "metadata": {},
   "outputs": [],
   "source": [
    "def replace_age_outlier(data):\n",
    "    DOB_threshold = 1900\n",
    "\n",
    "    # Find rows where year of birth is less than the threshold\n",
    "    age_outliers = data[data[\"CustomerDOB\"].dt.year < DOB_threshold].index\n",
    "\n",
    "    # Calculate the mean of valid DOBs\n",
    "    mean_DOB = data.loc[~data.index.isin(age_outliers), \"CustomerDOB\"].mean()\n",
    "\n",
    "    # Replace outlier DOBs with the mean DOB\n",
    "    data.loc[age_outliers, \"CustomerDOB\"] = mean_DOB\n",
    "\n",
    "    return data\n"
   ]
  },
  {
   "cell_type": "code",
   "execution_count": 51,
   "id": "cd610c6c-ea2d-4d9c-9270-855f1fe4e6dc",
   "metadata": {},
   "outputs": [],
   "source": [
    "# Fix any age outliers\n",
    "data = replace_age_outlier(data)\n",
    "\n",
    "# Recalculate age after fixing DOBs\n",
    "data = calculate_age(data)\n"
   ]
  },
  {
   "cell_type": "code",
   "execution_count": 52,
   "id": "f7be9fde-e625-4b60-b4dc-57775a1727d5",
   "metadata": {},
   "outputs": [
    {
     "data": {
      "image/png": "[encoded data removed]",
      "text/plain": [
       "<Figure size 1200x800 with 1 Axes>"
      ]
     },
     "metadata": {},
     "output_type": "display_data"
    }
   ],
   "source": [
    "import matplotlib.pyplot as plt\n",
    "import seaborn as sns\n",
    "\n",
    "# Plotting Age Distribution\n",
    "plt.figure(figsize=(12, 8))\n",
    "sns.histplot(data[\"age\"], bins=10, kde=False)\n",
    "plt.xlabel(\"Age\")           # <-- corrected from zlabel to xlabel\n",
    "plt.ylabel(\"Frequency\")     \n",
    "plt.title(\"Age Distribution\")\n",
    "plt.show()"
   ]
  },
  {
   "cell_type": "markdown",
   "id": "174c5206-d239-4317-b19b-905a2242a1dc",
   "metadata": {},
   "source": [
    "**Gender**"
   ]
  },
  {
   "cell_type": "code",
   "execution_count": 54,
   "id": "1bd7e9a0-db10-4a50-bef7-81497d313215",
   "metadata": {},
   "outputs": [
    {
     "data": {
      "text/plain": [
       "CustGender\n",
       "M    760978\n",
       "F    280635\n",
       "T         1\n",
       "Name: count, dtype: int64"
      ]
     },
     "execution_count": 54,
     "metadata": {},
     "output_type": "execute_result"
    }
   ],
   "source": [
    "data[\"CustGender\"].value_counts()"
   ]
  },
  {
   "cell_type": "code",
   "execution_count": 55,
   "id": "9ccc2ea1-e5c6-4a45-a0b6-7e00a478c300",
   "metadata": {},
   "outputs": [],
   "source": [
    "#replace T in gender with M\n",
    "data[\"CustGender\"] = data[\"CustGender\"].replace('T','M')"
   ]
  },
  {
   "cell_type": "code",
   "execution_count": 56,
   "id": "5c3381ec-afda-4444-9820-ded90e0dd9fa",
   "metadata": {},
   "outputs": [
    {
     "data": {
      "text/plain": [
       "CustGender\n",
       "M    760979\n",
       "F    280635\n",
       "Name: count, dtype: int64"
      ]
     },
     "execution_count": 56,
     "metadata": {},
     "output_type": "execute_result"
    }
   ],
   "source": [
    "data[\"CustGender\"].value_counts()"
   ]
  },
  {
   "cell_type": "code",
   "execution_count": 6,
   "id": "e072213d-3df2-4a00-98c8-3ad33fbc2060",
   "metadata": {},
   "outputs": [
    {
     "data": {
      "image/png": "[encoded data removed]",
      "text/plain": [
       "<Figure size 600x400 with 1 Axes>"
      ]
     },
     "metadata": {},
     "output_type": "display_data"
    }
   ],
   "source": [
    "# Gender-Based Spending Analysis with Optimized Y-Axis Limits\n",
    "import matplotlib.pyplot as plt\n",
    "import seaborn as sns\n",
    "\n",
    "plt.figure(figsize=(6, 4))\n",
    "sns.barplot(x=['M', 'F'], y=[760979, 280635])\n",
    "\n",
    "# Adjust y-axis limits for better visibility\n",
    "plt.ylim(250000, 800000)\n",
    "\n",
    "plt.title('Gender-Based Distribution')\n",
    "plt.xlabel('Gender')\n",
    "plt.ylabel('Total Customers')\n",
    "plt.show()"
   ]
  },
  {
   "cell_type": "code",
   "execution_count": null,
   "id": "7f1b0d20-1522-4ce1-858b-80cb27ce77cf",
   "metadata": {},
   "outputs": [],
   "source": []
  },
  {
   "cell_type": "code",
   "execution_count": null,
   "id": "1c816c15-d0a1-4040-8353-71dd9f0ea332",
   "metadata": {},
   "outputs": [],
   "source": []
  },
  {
   "cell_type": "markdown",
   "id": "ebcdcbbe-e3b0-459d-b41f-7827c6c2aed6",
   "metadata": {},
   "source": [
    "**Location**"
   ]
  },
  {
   "cell_type": "code",
   "execution_count": 59,
   "id": "10ecb8fe-7042-4521-a2cd-91718b4e11ae",
   "metadata": {},
   "outputs": [
    {
     "data": {
      "text/plain": [
       "CustLocation\n",
       "MUMBAI                            101997\n",
       "NEW DELHI                          84143\n",
       "BANGALORE                          81330\n",
       "GURGAON                            73594\n",
       "DELHI                              70549\n",
       "                                   ...  \n",
       "DISTRICT PURI                          1\n",
       "DHAKOLA                                1\n",
       "KANDESHWAR STATION NAVI MUMBAI         1\n",
       "HOSHIAR PUR                            1\n",
       "IMPERIA THANE WEST                     1\n",
       "Name: count, Length: 9275, dtype: int64"
      ]
     },
     "execution_count": 59,
     "metadata": {},
     "output_type": "execute_result"
    }
   ],
   "source": [
    "data[\"CustLocation\"].value_counts()"
   ]
  },
  {
   "cell_type": "markdown",
   "id": "2be73224-bdbf-4397-88ef-df9ff735d1c8",
   "metadata": {},
   "source": [
    "**Account Balance**"
   ]
  },
  {
   "cell_type": "code",
   "execution_count": 61,
   "id": "38018d1b-40e8-4228-98f8-3887e3b59cc0",
   "metadata": {},
   "outputs": [
    {
     "data": {
      "text/plain": [
       "133809             0.0\n",
       "1017262            0.0\n",
       "665191             0.0\n",
       "631012             0.0\n",
       "242176             0.0\n",
       "              ...     \n",
       "995329     115035495.1\n",
       "40727      115035495.1\n",
       "994478     115035495.1\n",
       "829903     115035495.1\n",
       "873636     115035495.1\n",
       "Name: CustAccountBalance, Length: 1041614, dtype: float64"
      ]
     },
     "execution_count": 61,
     "metadata": {},
     "output_type": "execute_result"
    }
   ],
   "source": [
    "data[\"CustAccountBalance\"].sort_values(ascending = True)"
   ]
  },
  {
   "cell_type": "markdown",
   "id": "6fc09109-4e27-4e37-b80a-11339e8b7883",
   "metadata": {},
   "source": [
    "**Transaction Amount**"
   ]
  },
  {
   "cell_type": "code",
   "execution_count": 63,
   "id": "42caff10-c62b-4c79-bb7e-83d16901363a",
   "metadata": {},
   "outputs": [
    {
     "data": {
      "text/plain": [
       "308944          0.00\n",
       "746400          0.00\n",
       "746393          0.00\n",
       "684462          0.00\n",
       "746124          0.00\n",
       "             ...    \n",
       "56155      720001.16\n",
       "744124     724122.00\n",
       "528263     991132.22\n",
       "574916    1380002.88\n",
       "396280    1560034.99\n",
       "Name: TransactionAmount (INR), Length: 1041614, dtype: float64"
      ]
     },
     "execution_count": 63,
     "metadata": {},
     "output_type": "execute_result"
    }
   ],
   "source": [
    "data[\"TransactionAmount (INR)\"].sort_values(ascending = True)"
   ]
  },
  {
   "cell_type": "code",
   "execution_count": 67,
   "id": "e44831b1-78c2-4dce-8d80-bfb38c60a3cc",
   "metadata": {},
   "outputs": [
    {
     "data": {
      "text/plain": [
       "820"
      ]
     },
     "execution_count": 67,
     "metadata": {},
     "output_type": "execute_result"
    }
   ],
   "source": [
    "(data[\"TransactionAmount (INR)\"] == 0).sum()\n"
   ]
  },
  {
   "cell_type": "code",
   "execution_count": 74,
   "id": "cdb5980d-a5f7-4207-858d-6971342eeeb2",
   "metadata": {},
   "outputs": [],
   "source": [
    "data.drop(data[data[\"TransactionAmount (INR)\"] == 0].index, axis=0, inplace=True)\n"
   ]
  },
  {
   "cell_type": "code",
   "execution_count": 75,
   "id": "1e33bfd5-7c2f-4fc6-93a8-bb16c132eb18",
   "metadata": {},
   "outputs": [
    {
     "data": {
      "text/plain": [
       "0"
      ]
     },
     "execution_count": 75,
     "metadata": {},
     "output_type": "execute_result"
    }
   ],
   "source": [
    "(data[\"TransactionAmount (INR)\"] == 0).sum()"
   ]
  },
  {
   "cell_type": "code",
   "execution_count": 76,
   "id": "096926b7-a82c-4252-9d65-4d1f5d9efd26",
   "metadata": {},
   "outputs": [
    {
     "data": {
      "text/html": [
       "<div>\n",
       "<style scoped>\n",
       "    .dataframe tbody tr th:only-of-type {\n",
       "        vertical-align: middle;\n",
       "    }\n",
       "\n",
       "    .dataframe tbody tr th {\n",
       "        vertical-align: top;\n",
       "    }\n",
       "\n",
       "    .dataframe thead th {\n",
       "        text-align: right;\n",
       "    }\n",
       "</style>\n",
       "<table border=\"1\" class=\"dataframe\">\n",
       "  <thead>\n",
       "    <tr style=\"text-align: right;\">\n",
       "      <th></th>\n",
       "      <th>TransactionID</th>\n",
       "      <th>CustomerID</th>\n",
       "      <th>CustomerDOB</th>\n",
       "      <th>CustGender</th>\n",
       "      <th>CustLocation</th>\n",
       "      <th>CustAccountBalance</th>\n",
       "      <th>TransactionDate</th>\n",
       "      <th>TransactionTime</th>\n",
       "      <th>TransactionAmount (INR)</th>\n",
       "      <th>age</th>\n",
       "    </tr>\n",
       "  </thead>\n",
       "  <tbody>\n",
       "    <tr>\n",
       "      <th>0</th>\n",
       "      <td>T1</td>\n",
       "      <td>C5841053</td>\n",
       "      <td>1994-10-01</td>\n",
       "      <td>F</td>\n",
       "      <td>JAMSHEDPUR</td>\n",
       "      <td>17819.05</td>\n",
       "      <td>2016-02-08</td>\n",
       "      <td>143207</td>\n",
       "      <td>25.0</td>\n",
       "      <td>22</td>\n",
       "    </tr>\n",
       "    <tr>\n",
       "      <th>1</th>\n",
       "      <td>T2</td>\n",
       "      <td>C2142763</td>\n",
       "      <td>1957-04-04</td>\n",
       "      <td>M</td>\n",
       "      <td>JHAJJAR</td>\n",
       "      <td>2270.69</td>\n",
       "      <td>2016-02-08</td>\n",
       "      <td>141858</td>\n",
       "      <td>27999.0</td>\n",
       "      <td>59</td>\n",
       "    </tr>\n",
       "    <tr>\n",
       "      <th>2</th>\n",
       "      <td>T3</td>\n",
       "      <td>C4417068</td>\n",
       "      <td>1996-11-26</td>\n",
       "      <td>F</td>\n",
       "      <td>MUMBAI</td>\n",
       "      <td>17874.44</td>\n",
       "      <td>2016-02-08</td>\n",
       "      <td>142712</td>\n",
       "      <td>459.0</td>\n",
       "      <td>20</td>\n",
       "    </tr>\n",
       "    <tr>\n",
       "      <th>3</th>\n",
       "      <td>T4</td>\n",
       "      <td>C5342380</td>\n",
       "      <td>1973-09-14</td>\n",
       "      <td>F</td>\n",
       "      <td>MUMBAI</td>\n",
       "      <td>866503.21</td>\n",
       "      <td>2016-02-08</td>\n",
       "      <td>142714</td>\n",
       "      <td>2060.0</td>\n",
       "      <td>43</td>\n",
       "    </tr>\n",
       "    <tr>\n",
       "      <th>4</th>\n",
       "      <td>T5</td>\n",
       "      <td>C9031234</td>\n",
       "      <td>1988-03-24</td>\n",
       "      <td>F</td>\n",
       "      <td>NAVI MUMBAI</td>\n",
       "      <td>6714.43</td>\n",
       "      <td>2016-02-08</td>\n",
       "      <td>181156</td>\n",
       "      <td>1762.5</td>\n",
       "      <td>28</td>\n",
       "    </tr>\n",
       "  </tbody>\n",
       "</table>\n",
       "</div>"
      ],
      "text/plain": [
       "  TransactionID CustomerID CustomerDOB CustGender CustLocation  \\\n",
       "0            T1   C5841053  1994-10-01          F   JAMSHEDPUR   \n",
       "1            T2   C2142763  1957-04-04          M      JHAJJAR   \n",
       "2            T3   C4417068  1996-11-26          F       MUMBAI   \n",
       "3            T4   C5342380  1973-09-14          F       MUMBAI   \n",
       "4            T5   C9031234  1988-03-24          F  NAVI MUMBAI   \n",
       "\n",
       "   CustAccountBalance TransactionDate  TransactionTime  \\\n",
       "0            17819.05      2016-02-08           143207   \n",
       "1             2270.69      2016-02-08           141858   \n",
       "2            17874.44      2016-02-08           142712   \n",
       "3           866503.21      2016-02-08           142714   \n",
       "4             6714.43      2016-02-08           181156   \n",
       "\n",
       "   TransactionAmount (INR)  age  \n",
       "0                     25.0   22  \n",
       "1                  27999.0   59  \n",
       "2                    459.0   20  \n",
       "3                   2060.0   43  \n",
       "4                   1762.5   28  "
      ]
     },
     "execution_count": 76,
     "metadata": {},
     "output_type": "execute_result"
    }
   ],
   "source": [
    "data.head()"
   ]
  },
  {
   "cell_type": "code",
   "execution_count": 13,
   "id": "cbad3086-cf06-4387-b987-8b2705463cec",
   "metadata": {},
   "outputs": [
    {
     "data": {
      "image/png": "[encoded data removed]",
      "text/plain": [
       "<Figure size 800x500 with 1 Axes>"
      ]
     },
     "metadata": {},
     "output_type": "display_data"
    }
   ],
   "source": [
    "import matplotlib.pyplot as plt\n",
    "import seaborn as sns\n",
    "\n",
    "# Sample transaction data\n",
    "location_spending = {\n",
    "    'JAMSHEDPUR': 25.0,\n",
    "    'JHAJJAR': 27999.0,\n",
    "    'MUMBAI': 0.0\n",
    "}\n",
    "\n",
    "# Convert dictionary to DataFrame for plotting\n",
    "df_location_spending = pd.DataFrame(location_spending.items(), columns=['Location', 'Total Transaction Amount'])\n",
    "\n",
    "# Calculate percentage contribution for each location\n",
    "df_location_spending['Percentage'] = (df_location_spending['Total Transaction Amount'] / df_location_spending['Total Transaction Amount'].sum()) * 100\n",
    "\n",
    "# Create bar plot\n",
    "plt.figure(figsize=(8, 5))\n",
    "ax = sns.barplot(x=df_location_spending['Location'], y=df_location_spending['Total Transaction Amount'])\n",
    "\n",
    "# Set y-axis limit for better visibility\n",
    "plt.ylim(0, 30000)\n",
    "\n",
    "# Add percentage labels on bars\n",
    "for i, v in enumerate(df_location_spending['Total Transaction Amount']):\n",
    "    ax.text(i, v + 1000, f\"{df_location_spending['Percentage'][i]:.2f}%\", ha='center', fontsize=12, fontweight='bold')\n",
    "\n",
    "plt.title('Total Spending by Location')\n",
    "plt.xlabel('Location')\n",
    "plt.ylabel('Total Transaction Amount (INR)')\n",
    "plt.xticks(rotation=45)\n",
    "plt.show()"
   ]
  },
  {
   "cell_type": "code",
   "execution_count": 12,
   "id": "4d440564-04d0-442c-a84b-954103927923",
   "metadata": {},
   "outputs": [
    {
     "data": {
      "image/png": "[encoded data removed]",
      "text/plain": [
       "<Figure size 800x500 with 1 Axes>"
      ]
     },
     "metadata": {},
     "output_type": "display_data"
    }
   ],
   "source": [
    "import matplotlib.pyplot as plt\n",
    "import seaborn as sns\n",
    "\n",
    "# Sample average transaction amount data\n",
    "location_avg_spending = {\n",
    "    'JAMSHEDPUR': 9850.0,\n",
    "    'JHAJJAR': 10200.0,\n",
    "    'MUMBAI': 9700.0\n",
    "}\n",
    "\n",
    "# Convert dictionary to DataFrame for plotting\n",
    "df_location_avg_spending = pd.DataFrame(location_avg_spending.items(), columns=['Location', 'Avg. Transaction Amount'])\n",
    "\n",
    "# Calculate percentage contribution for each location\n",
    "df_location_avg_spending['Percentage'] = (df_location_avg_spending['Avg. Transaction Amount'] / df_location_avg_spending['Avg. Transaction Amount'].sum()) * 100\n",
    "\n",
    "# Create bar plot\n",
    "plt.figure(figsize=(8, 5))\n",
    "ax = sns.barplot(x=df_location_avg_spending['Location'], y=df_location_avg_spending['Avg. Transaction Amount'])\n",
    "\n",
    "# Set y-axis limit for better visibility\n",
    "plt.ylim(9000, 11000)\n",
    "\n",
    "# Add percentage labels on bars\n",
    "for i, v in enumerate(df_location_avg_spending['Avg. Transaction Amount']):\n",
    "    ax.text(i, v + 150, f\"{df_location_avg_spending['Percentage'][i]:.2f}%\", ha='center', fontsize=12, fontweight='bold')\n",
    "\n",
    "plt.title('Average Transaction Amount by Location')\n",
    "plt.xlabel('Location')\n",
    "plt.ylabel('Avg. Transaction Amount (INR)')\n",
    "plt.xticks(rotation=45)\n",
    "plt.show()"
   ]
  },
  {
   "cell_type": "code",
   "execution_count": 14,
   "id": "9b0cf049-9636-4f60-b0e0-ae58b29d5eec",
   "metadata": {},
   "outputs": [
    {
     "data": {
      "image/png": "[encoded data removed]",
      "text/plain": [
       "<Figure size 800x500 with 1 Axes>"
      ]
     },
     "metadata": {},
     "output_type": "display_data"
    }
   ],
   "source": [
    "import matplotlib.pyplot as plt\n",
    "import seaborn as sns\n",
    "\n",
    "# Sample total spending data\n",
    "location_spending = {\n",
    "    'JAMSHEDPUR': 98500.0,\n",
    "    'JHAJJAR': 102000.0,\n",
    "    'MUMBAI': 97000.0\n",
    "}\n",
    "\n",
    "# Convert dictionary to DataFrame for plotting\n",
    "df_location_spending = pd.DataFrame(location_spending.items(), columns=['Location', 'Total Transaction Amount'])\n",
    "\n",
    "# Calculate percentage contribution for each location\n",
    "df_location_spending['Percentage'] = (df_location_spending['Total Transaction Amount'] / df_location_spending['Total Transaction Amount'].sum()) * 100\n",
    "\n",
    "# Create bar plot\n",
    "plt.figure(figsize=(8, 5))\n",
    "ax = sns.barplot(x=df_location_spending['Location'], y=df_location_spending['Total Transaction Amount'])\n",
    "\n",
    "# Set y-axis limit for better visibility\n",
    "plt.ylim(90000, 110000)\n",
    "\n",
    "# Add percentage labels on bars\n",
    "for i, v in enumerate(df_location_spending['Total Transaction Amount']):\n",
    "    ax.text(i, v + 1500, f\"{df_location_spending['Percentage'][i]:.2f}%\", ha='center', fontsize=12, fontweight='bold')\n",
    "\n",
    "plt.title('Total Spending by Location')\n",
    "plt.xlabel('Location')\n",
    "plt.ylabel('Total Transaction Amount (INR)')\n",
    "plt.xticks(rotation=45)\n",
    "plt.show()"
   ]
  },
  {
   "cell_type": "code",
   "execution_count": 17,
   "id": "d4e17cab-ccc0-4cdb-9064-aef56a9b0171",
   "metadata": {},
   "outputs": [
    {
     "data": {
      "image/png": "[encoded data removed]",
      "text/plain": [
       "<Figure size 800x500 with 1 Axes>"
      ]
     },
     "metadata": {},
     "output_type": "display_data"
    }
   ],
   "source": [
    "import matplotlib.pyplot as plt\n",
    "import seaborn as sns\n",
    "\n",
    "# Sample high-value customer distribution data\n",
    "high_value_location_counts = {\n",
    "    'JAMSHEDPUR': 985,\n",
    "    'JHAJJAR': 1020,\n",
    "    'MUMBAI': 970\n",
    "}\n",
    "\n",
    "# Convert dictionary to DataFrame for plotting\n",
    "df_high_value_location_counts = pd.DataFrame(high_value_location_counts.items(), columns=['Location', 'High-Value Customers'])\n",
    "\n",
    "# Calculate percentage contribution for each location\n",
    "df_high_value_location_counts['Percentage'] = (df_high_value_location_counts['High-Value Customers'] / df_high_value_location_counts['High-Value Customers'].sum()) * 100\n",
    "\n",
    "# Create bar plot\n",
    "plt.figure(figsize=(8, 5))\n",
    "ax = sns.barplot(x=df_high_value_location_counts['Location'], y=df_high_value_location_counts['High-Value Customers'])\n",
    "\n",
    "# Set y-axis limit for better visibility\n",
    "plt.ylim(900, 1100)\n",
    "\n",
    "# Add percentage labels on bars\n",
    "for i, v in enumerate(df_high_value_location_counts['High-Value Customers']):\n",
    "    ax.text(i, v + 15, f\"{df_high_value_location_counts['Percentage'][i]:.2f}%\", ha='center', fontsize=12, fontweight='bold')\n",
    "\n",
    "plt.title('High-Value Customer Distribution by Location')\n",
    "plt.xlabel('Location')\n",
    "plt.ylabel('Number of High-Value Customers')\n",
    "plt.xticks(rotation=45)\n",
    "plt.show()"
   ]
  },
  {
   "cell_type": "markdown",
   "id": "3d3d49cd-cdf7-4953-bf4c-d9d966f54f6d",
   "metadata": {},
   "source": [
    "# Exploratory Data Analysis"
   ]
  },
  {
   "cell_type": "code",
   "execution_count": 78,
   "id": "221e56e5-39f4-4b31-898f-a36fd94614d5",
   "metadata": {},
   "outputs": [
    {
     "data": {
      "text/plain": [
       "array(['C5841053', 'C2142763', 'C4417068', ..., 'C8020229', 'C6459278',\n",
       "       'C6420483'], dtype=object)"
      ]
     },
     "execution_count": 78,
     "metadata": {},
     "output_type": "execute_result"
    }
   ],
   "source": [
    "data[\"CustomerID\"].unique()"
   ]
  },
  {
   "cell_type": "code",
   "execution_count": 79,
   "id": "6495ebaa-fd06-4fe0-941d-0f8236d2c459",
   "metadata": {},
   "outputs": [
    {
     "data": {
      "text/plain": [
       "(1040794, 10)"
      ]
     },
     "execution_count": 79,
     "metadata": {},
     "output_type": "execute_result"
    }
   ],
   "source": [
    "data.shape"
   ]
  },
  {
   "cell_type": "code",
   "execution_count": 80,
   "id": "7dae7159-c306-49b2-8b52-c20654827ad6",
   "metadata": {},
   "outputs": [
    {
     "data": {
      "image/png": "[encoded data removed]",
      "text/plain": [
       "<Figure size 1200x800 with 1 Axes>"
      ]
     },
     "metadata": {},
     "output_type": "display_data"
    }
   ],
   "source": [
    "#plot a distribution for data across the uniquetransaction date\n",
    "plt.figure(figsize=(12, 8))\n",
    "sns.histplot(data[\"TransactionDate\"], bins=12, kde = False)\n",
    "plt.xlabel(\"Transaction Date\")           \n",
    "plt.ylabel(\"Frequency\")     \n",
    "plt.title(\"Transaction Date Distribution\")\n",
    "plt.show()"
   ]
  },
  {
   "cell_type": "code",
   "execution_count": 82,
   "id": "024a099b-8849-4fe9-9e33-525e165d8f93",
   "metadata": {},
   "outputs": [
    {
     "data": {
      "image/png": "[encoded data removed]",
      "text/plain": [
       "<Figure size 1200x800 with 1 Axes>"
      ]
     },
     "metadata": {},
     "output_type": "display_data"
    }
   ],
   "source": [
    "#plot a distribution for data across the uniquetransaction date\n",
    "plt.figure(figsize=(12, 8))\n",
    "sns.histplot(data[\"TransactionDate\"], bins=3, kde = False)\n",
    "plt.xlabel(\"Transaction Date\")           \n",
    "plt.ylabel(\"Frequency\")     \n",
    "plt.title(\"Transaction Date Distribution\")\n",
    "plt.show()"
   ]
  },
  {
   "cell_type": "code",
   "execution_count": null,
   "id": "913a373d-802e-4cfc-848a-9ede0582ac6e",
   "metadata": {},
   "outputs": [],
   "source": []
  },
  {
   "cell_type": "code",
   "execution_count": 95,
   "id": "b099c770-c991-46f3-9cc1-a8735b2f02cc",
   "metadata": {},
   "outputs": [
    {
     "name": "stdout",
     "output_type": "stream",
     "text": [
      "['TransactionID', 'CustomerID', 'CustomerDOB', 'CustGender', 'CustLocation', 'CustAccountBalance', 'TransactionDate', 'TransactionTime', 'TransactionAmount (INR)', 'age']\n"
     ]
    }
   ],
   "source": [
    "print(data.columns.tolist())"
   ]
  },
  {
   "cell_type": "code",
   "execution_count": 96,
   "id": "24f2e083-4926-46e9-b35d-a4e554cff62b",
   "metadata": {},
   "outputs": [],
   "source": [
    "# Remove leading/trailing spaces\n",
    "data.columns = data.columns.str.strip()\n",
    "\n",
    "# Convert all column names to lowercase\n",
    "data.columns = data.columns.str.lower()\n"
   ]
  },
  {
   "cell_type": "code",
   "execution_count": 97,
   "id": "266f22c8-b846-4063-bd60-ed1bff8acec4",
   "metadata": {},
   "outputs": [
    {
     "name": "stdout",
     "output_type": "stream",
     "text": [
      "['transactionid', 'customerid', 'customerdob', 'custgender', 'custlocation', 'custaccountbalance', 'transactiondate', 'transactiontime', 'transactionamount (inr)', 'age']\n"
     ]
    }
   ],
   "source": [
    "print(data.columns.tolist())\n"
   ]
  },
  {
   "cell_type": "code",
   "execution_count": 98,
   "id": "673b501c-cb4e-4f03-a707-eaf66586b39d",
   "metadata": {},
   "outputs": [
    {
     "data": {
      "image/png": "[encoded data removed]",
      "text/plain": [
       "<Figure size 800x800 with 1 Axes>"
      ]
     },
     "metadata": {},
     "output_type": "display_data"
    }
   ],
   "source": [
    "import matplotlib.pyplot as plt\n",
    "\n",
    "# Count the occurrences of each gender\n",
    "gender_count = data['custgender'].value_counts()\n",
    "\n",
    "# Create a pie chart\n",
    "plt.figure(figsize=(8, 8))\n",
    "plt.pie(\n",
    "    gender_count,\n",
    "    labels=gender_count.index,\n",
    "    autopct='%1.1f%%',\n",
    "    startangle=180\n",
    ")\n",
    "plt.title(\"Gender Distribution\")\n",
    "plt.ylabel('')  # Optional: removes the default y-axis label\n",
    "plt.show()\n"
   ]
  },
  {
   "cell_type": "code",
   "execution_count": 101,
   "id": "b517e1e9-b1d8-479e-aeb2-57c12c713e1f",
   "metadata": {},
   "outputs": [
    {
     "name": "stdout",
     "output_type": "stream",
     "text": [
      "['transactionid', 'customerid', 'customerdob', 'custgender', 'custlocation', 'custaccountbalance', 'transactiondate', 'transactiontime', 'transactionamount (inr)', 'age']\n"
     ]
    }
   ],
   "source": [
    "print(data.columns.tolist())"
   ]
  },
  {
   "cell_type": "code",
   "execution_count": 102,
   "id": "172a40d4-b36d-45e5-a2f8-2c5cd44491e0",
   "metadata": {},
   "outputs": [],
   "source": [
    "# Remove leading/trailing spaces\n",
    "data.columns = data.columns.str.strip()\n",
    "\n",
    "# Convert all column names to lowercase\n",
    "data.columns = data.columns.str.lower()\n"
   ]
  },
  {
   "cell_type": "code",
   "execution_count": 103,
   "id": "143905af-3c48-4394-ae13-d51f0d627811",
   "metadata": {},
   "outputs": [
    {
     "data": {
      "image/png": "[encoded data removed]",
      "text/plain": [
       "<Figure size 800x800 with 1 Axes>"
      ]
     },
     "metadata": {},
     "output_type": "display_data"
    }
   ],
   "source": [
    "import matplotlib.pyplot as plt\n",
    "\n",
    "# Count the occurrences of each gender\n",
    "gender_count = data['custgender'].value_counts()\n",
    "\n",
    "# Create a pie chart\n",
    "plt.figure(figsize=(8, 8))\n",
    "plt.pie(\n",
    "    gender_count,\n",
    "    labels=gender_count.index,\n",
    "    autopct='%1.1f%%',\n",
    "    startangle=180\n",
    ")\n",
    "plt.title(\"Gender Distribution\")\n",
    "plt.ylabel('')  # Optional: removes the default y-axis label\n",
    "plt.show()\n"
   ]
  },
  {
   "cell_type": "markdown",
   "id": "0fff5ed9-c6f6-4afb-9437-1c52ca48375c",
   "metadata": {},
   "source": [
    "## RFM - Recency, Frequency, and Monetary value Analysis"
   ]
  },
  {
   "cell_type": "code",
   "execution_count": 104,
   "id": "a6ca3da2-9746-440c-b113-90a59db98c52",
   "metadata": {},
   "outputs": [
    {
     "data": {
      "text/html": [
       "<div>\n",
       "<style scoped>\n",
       "    .dataframe tbody tr th:only-of-type {\n",
       "        vertical-align: middle;\n",
       "    }\n",
       "\n",
       "    .dataframe tbody tr th {\n",
       "        vertical-align: top;\n",
       "    }\n",
       "\n",
       "    .dataframe thead th {\n",
       "        text-align: right;\n",
       "    }\n",
       "</style>\n",
       "<table border=\"1\" class=\"dataframe\">\n",
       "  <thead>\n",
       "    <tr style=\"text-align: right;\">\n",
       "      <th></th>\n",
       "      <th>transactionid</th>\n",
       "      <th>customerid</th>\n",
       "      <th>customerdob</th>\n",
       "      <th>custgender</th>\n",
       "      <th>custlocation</th>\n",
       "      <th>custaccountbalance</th>\n",
       "      <th>transactiondate</th>\n",
       "      <th>transactiontime</th>\n",
       "      <th>transactionamount (inr)</th>\n",
       "      <th>age</th>\n",
       "    </tr>\n",
       "  </thead>\n",
       "  <tbody>\n",
       "    <tr>\n",
       "      <th>0</th>\n",
       "      <td>T1</td>\n",
       "      <td>C5841053</td>\n",
       "      <td>1994-10-01</td>\n",
       "      <td>F</td>\n",
       "      <td>JAMSHEDPUR</td>\n",
       "      <td>17819.05</td>\n",
       "      <td>2016-02-08</td>\n",
       "      <td>143207</td>\n",
       "      <td>25.0</td>\n",
       "      <td>22</td>\n",
       "    </tr>\n",
       "    <tr>\n",
       "      <th>1</th>\n",
       "      <td>T2</td>\n",
       "      <td>C2142763</td>\n",
       "      <td>1957-04-04</td>\n",
       "      <td>M</td>\n",
       "      <td>JHAJJAR</td>\n",
       "      <td>2270.69</td>\n",
       "      <td>2016-02-08</td>\n",
       "      <td>141858</td>\n",
       "      <td>27999.0</td>\n",
       "      <td>59</td>\n",
       "    </tr>\n",
       "    <tr>\n",
       "      <th>2</th>\n",
       "      <td>T3</td>\n",
       "      <td>C4417068</td>\n",
       "      <td>1996-11-26</td>\n",
       "      <td>F</td>\n",
       "      <td>MUMBAI</td>\n",
       "      <td>17874.44</td>\n",
       "      <td>2016-02-08</td>\n",
       "      <td>142712</td>\n",
       "      <td>459.0</td>\n",
       "      <td>20</td>\n",
       "    </tr>\n",
       "  </tbody>\n",
       "</table>\n",
       "</div>"
      ],
      "text/plain": [
       "  transactionid customerid customerdob custgender custlocation  \\\n",
       "0            T1   C5841053  1994-10-01          F   JAMSHEDPUR   \n",
       "1            T2   C2142763  1957-04-04          M      JHAJJAR   \n",
       "2            T3   C4417068  1996-11-26          F       MUMBAI   \n",
       "\n",
       "   custaccountbalance transactiondate  transactiontime  \\\n",
       "0            17819.05      2016-02-08           143207   \n",
       "1             2270.69      2016-02-08           141858   \n",
       "2            17874.44      2016-02-08           142712   \n",
       "\n",
       "   transactionamount (inr)  age  \n",
       "0                     25.0   22  \n",
       "1                  27999.0   59  \n",
       "2                    459.0   20  "
      ]
     },
     "execution_count": 104,
     "metadata": {},
     "output_type": "execute_result"
    }
   ],
   "source": [
    "data.head(3)"
   ]
  },
  {
   "cell_type": "markdown",
   "id": "0a466396-c08d-40e1-abef-d9adce046c5c",
   "metadata": {},
   "source": [
    "## Recency"
   ]
  },
  {
   "cell_type": "code",
   "execution_count": 106,
   "id": "2df9644d-1fe3-4900-8a57-ab068b9fe979",
   "metadata": {},
   "outputs": [],
   "source": [
    "day = data[\"transactiondate\"].max()"
   ]
  },
  {
   "cell_type": "code",
   "execution_count": 107,
   "id": "1c33f075-45a0-4bd5-83bf-2a4cafb6a03b",
   "metadata": {},
   "outputs": [
    {
     "data": {
      "text/plain": [
       "Timestamp('2016-12-09 00:00:00')"
      ]
     },
     "execution_count": 107,
     "metadata": {},
     "output_type": "execute_result"
    }
   ],
   "source": [
    "day"
   ]
  },
  {
   "cell_type": "code",
   "execution_count": 114,
   "id": "7f07806c-4dea-479d-942c-8f80db49cb22",
   "metadata": {},
   "outputs": [],
   "source": [
    "# Define 'day' as today's date\n",
    "from datetime import datetime\n",
    "day = datetime.now()\n",
    "\n",
    "# Calculate Recency\n",
    "Recency = data.groupby(\"customerid\").agg({\n",
    "    \"transactiondate\": lambda x: (day - x.max()).days + 1\n",
    "})"
   ]
  },
  {
   "cell_type": "code",
   "execution_count": 115,
   "id": "3380732b-a157-4c49-8a5d-dd71a3f145dd",
   "metadata": {},
   "outputs": [
    {
     "data": {
      "text/html": [
       "<div>\n",
       "<style scoped>\n",
       "    .dataframe tbody tr th:only-of-type {\n",
       "        vertical-align: middle;\n",
       "    }\n",
       "\n",
       "    .dataframe tbody tr th {\n",
       "        vertical-align: top;\n",
       "    }\n",
       "\n",
       "    .dataframe thead th {\n",
       "        text-align: right;\n",
       "    }\n",
       "</style>\n",
       "<table border=\"1\" class=\"dataframe\">\n",
       "  <thead>\n",
       "    <tr style=\"text-align: right;\">\n",
       "      <th></th>\n",
       "      <th>transactiondate</th>\n",
       "    </tr>\n",
       "    <tr>\n",
       "      <th>customerid</th>\n",
       "      <th></th>\n",
       "    </tr>\n",
       "  </thead>\n",
       "  <tbody>\n",
       "    <tr>\n",
       "      <th>C1010011</th>\n",
       "      <td>3138</td>\n",
       "    </tr>\n",
       "    <tr>\n",
       "      <th>C1010012</th>\n",
       "      <td>3181</td>\n",
       "    </tr>\n",
       "    <tr>\n",
       "      <th>C1010014</th>\n",
       "      <td>3218</td>\n",
       "    </tr>\n",
       "    <tr>\n",
       "      <th>C1010018</th>\n",
       "      <td>3149</td>\n",
       "    </tr>\n",
       "    <tr>\n",
       "      <th>C1010024</th>\n",
       "      <td>3177</td>\n",
       "    </tr>\n",
       "  </tbody>\n",
       "</table>\n",
       "</div>"
      ],
      "text/plain": [
       "            transactiondate\n",
       "customerid                 \n",
       "C1010011               3138\n",
       "C1010012               3181\n",
       "C1010014               3218\n",
       "C1010018               3149\n",
       "C1010024               3177"
      ]
     },
     "execution_count": 115,
     "metadata": {},
     "output_type": "execute_result"
    }
   ],
   "source": [
    "Recency.head()"
   ]
  },
  {
   "cell_type": "code",
   "execution_count": 116,
   "id": "d9c9e631-6934-40d0-8f16-05462e970c3f",
   "metadata": {},
   "outputs": [
    {
     "name": "stdout",
     "output_type": "stream",
     "text": [
      "False\n"
     ]
    }
   ],
   "source": [
    "print(Recency.empty)"
   ]
  },
  {
   "cell_type": "code",
   "execution_count": 117,
   "id": "7ab97160-8591-4a64-b0e6-8840ffa257b6",
   "metadata": {},
   "outputs": [],
   "source": [
    "data[\"transactiondate\"] = pd.to_datetime(data[\"transactiondate\"], errors=\"coerce\")"
   ]
  },
  {
   "cell_type": "code",
   "execution_count": 118,
   "id": "14e0e45a-19e3-46e8-9865-7ca70cbe5321",
   "metadata": {},
   "outputs": [
    {
     "name": "stdout",
     "output_type": "stream",
     "text": [
      "878763\n"
     ]
    }
   ],
   "source": [
    "print(data[\"customerid\"].nunique())"
   ]
  },
  {
   "cell_type": "code",
   "execution_count": 26,
   "id": "13ebbc79-56bf-4a47-9eaf-d77665bf6e0f",
   "metadata": {},
   "outputs": [
    {
     "data": {
      "image/png": "[encoded data removed]",
      "text/plain": [
       "<Figure size 800x500 with 1 Axes>"
      ]
     },
     "metadata": {},
     "output_type": "display_data"
    }
   ],
   "source": [
    "import matplotlib.pyplot as plt\n",
    "import seaborn as sns\n",
    "\n",
    "plt.figure(figsize=(8, 5))\n",
    "ax = sns.barplot(x=segment_counts.index, y=segment_counts_percentage)\n",
    "\n",
    "# Add percentage labels inside the bars\n",
    "for i, v in enumerate(segment_counts_percentage):\n",
    "    ax.text(i, v - 1, f\"{v:.2f}%\", ha='center', fontsize=12, fontweight='bold', color='white')\n",
    "\n",
    "plt.title('Customer Segmentation Based on Recency')\n",
    "plt.xlabel('Recency Segment')\n",
    "plt.ylabel('Percentage of Customers')\n",
    "plt.show()"
   ]
  },
  {
   "cell_type": "code",
   "execution_count": null,
   "id": "33557a66-bfd7-41fc-8a7c-02f39510f611",
   "metadata": {},
   "outputs": [],
   "source": []
  },
  {
   "cell_type": "markdown",
   "id": "3c0ec4be-06d0-4027-a8c6-4c70c035b8c4",
   "metadata": {},
   "source": [
    "## Frequency"
   ]
  },
  {
   "cell_type": "code",
   "execution_count": 119,
   "id": "e102ae8a-e4c7-4c9c-8d85-cb21651f9c33",
   "metadata": {},
   "outputs": [
    {
     "name": "stdout",
     "output_type": "stream",
     "text": [
      "            transactiondate\n",
      "customerid                 \n",
      "C1010011               3138\n",
      "C1010012               3181\n",
      "C1010014               3218\n",
      "C1010018               3149\n",
      "C1010024               3177\n",
      "...                     ...\n",
      "C9099836               3218\n",
      "C9099877               3149\n",
      "C9099919               3177\n",
      "C9099941               3167\n",
      "C9099956               3139\n",
      "\n",
      "[878763 rows x 1 columns]\n"
     ]
    }
   ],
   "source": [
    "print(Recency)"
   ]
  },
  {
   "cell_type": "code",
   "execution_count": 120,
   "id": "50c0b300-8f71-42fa-a085-38aac509734a",
   "metadata": {},
   "outputs": [],
   "source": [
    "Frequency = data.groupby(\"customerid\")[\"transactionid\"].count()"
   ]
  },
  {
   "cell_type": "code",
   "execution_count": 121,
   "id": "dabc4bb9-2dbe-4f1d-acef-62ab0f6f9f1a",
   "metadata": {},
   "outputs": [
    {
     "data": {
      "text/plain": [
       "customerid\n",
       "C1010011    2\n",
       "C1010012    1\n",
       "C1010014    2\n",
       "C1010018    1\n",
       "C1010024    1\n",
       "Name: transactionid, dtype: int64"
      ]
     },
     "execution_count": 121,
     "metadata": {},
     "output_type": "execute_result"
    }
   ],
   "source": [
    "Frequency.head()"
   ]
  },
  {
   "cell_type": "code",
   "execution_count": 29,
   "id": "4d076df8-324e-4b9f-8297-4860d2aa1ce2",
   "metadata": {},
   "outputs": [
    {
     "name": "stdout",
     "output_type": "stream",
     "text": [
      "\n",
      "Top Customers by Transaction Count:\n",
      "   customerid  transactioncount  FrequencySegment\n",
      "6         C7                99    High-frequency\n",
      "0         C1                95    High-frequency\n",
      "3         C4                60    High-frequency\n",
      "1         C2                47  Medium-frequency\n",
      "2         C3                23  Medium-frequency\n",
      "5         C6                11  Medium-frequency\n",
      "4         C5                 5     Low-frequency\n"
     ]
    }
   ],
   "source": [
    "# Sort customers by transaction frequency\n",
    "top_customers = data.sort_values(by='transactioncount', ascending=False).head(10)\n",
    "\n",
    "print(\"\\nTop Customers by Transaction Count:\\n\", top_customers)"
   ]
  },
  {
   "cell_type": "code",
   "execution_count": 30,
   "id": "fef23805-7af5-4cca-ab49-e7e11e960018",
   "metadata": {},
   "outputs": [
    {
     "data": {
      "image/png": "[encoded data removed]",
      "text/plain": [
       "<Figure size 800x500 with 1 Axes>"
      ]
     },
     "metadata": {},
     "output_type": "display_data"
    }
   ],
   "source": [
    "plt.figure(figsize=(8, 5))\n",
    "sns.histplot(data['transactioncount'], bins=10, kde=True)\n",
    "\n",
    "plt.title('Transaction Frequency Distribution')\n",
    "plt.xlabel('Transaction Count')\n",
    "plt.ylabel('Number of Customers')\n",
    "plt.show()"
   ]
  },
  {
   "cell_type": "code",
   "execution_count": 31,
   "id": "2bfff021-f5d1-4835-a8bb-88bd6ffcc9bb",
   "metadata": {},
   "outputs": [
    {
     "data": {
      "image/png": "[encoded data removed]",
      "text/plain": [
       "<Figure size 600x400 with 1 Axes>"
      ]
     },
     "metadata": {},
     "output_type": "display_data"
    }
   ],
   "source": [
    "import numpy as np\n",
    "\n",
    "# Sample dataset with spending amounts\n",
    "data['transactionamount'] = np.random.randint(500, 5000, size=len(data))\n",
    "\n",
    "# Scatterplot to visualize correlation\n",
    "plt.figure(figsize=(6, 4))\n",
    "sns.scatterplot(x=data['transactioncount'], y=data['transactionamount'])\n",
    "\n",
    "plt.title('Transaction Frequency vs. Amount Spent')\n",
    "plt.xlabel('Transaction Count')\n",
    "plt.ylabel('Total Transaction Amount (INR)')\n",
    "plt.show()"
   ]
  },
  {
   "cell_type": "code",
   "execution_count": 34,
   "id": "8753e2e3-7e4c-4a55-92d8-ac02e8496222",
   "metadata": {},
   "outputs": [
    {
     "data": {
      "image/png": "[encoded data removed]",
      "text/plain": [
       "<Figure size 1000x500 with 1 Axes>"
      ]
     },
     "metadata": {},
     "output_type": "display_data"
    }
   ],
   "source": [
    "import pandas as pd\n",
    "import matplotlib.pyplot as plt\n",
    "import seaborn as sns\n",
    "\n",
    "# Sample transaction data\n",
    "data = pd.DataFrame({\n",
    "    'customerid': ['C1', 'C2', 'C3', 'C4', 'C5', 'C6', 'C7'],\n",
    "    'transactioncount': [95, 47, 23, 60, 5, 11, 99]\n",
    "})\n",
    "\n",
    "# Generate transaction dates using corrected monthly frequency\n",
    "data['transactiondate'] = pd.date_range(start='2025-01-01', periods=len(data), freq='ME')\n",
    "\n",
    "# Group transactions by month\n",
    "monthly_transactions = data.groupby(data['transactiondate'].dt.to_period('M')).size()\n",
    "\n",
    "# Visualization\n",
    "plt.figure(figsize=(10, 5))\n",
    "ax = sns.lineplot(x=monthly_transactions.index.astype(str), y=monthly_transactions)\n",
    "\n",
    "plt.xticks(rotation=45)\n",
    "plt.title('Monthly Transaction Trends')\n",
    "plt.xlabel('Month')\n",
    "plt.ylabel('Number of Transactions')\n",
    "plt.show()"
   ]
  },
  {
   "cell_type": "markdown",
   "id": "1b769dec-7134-4f1b-9714-4bd9f5c5547e",
   "metadata": {},
   "source": [
    "## Monetary value"
   ]
  },
  {
   "cell_type": "code",
   "execution_count": 122,
   "id": "a5129926-225f-466b-b045-303e9ef1d364",
   "metadata": {},
   "outputs": [],
   "source": [
    "Monetary = data.groupby(\"customerid\")[\"transactionamount (inr)\"].sum()"
   ]
  },
  {
   "cell_type": "code",
   "execution_count": 123,
   "id": "ee0778c9-a5b7-4593-a7fa-bae2e582f1b2",
   "metadata": {},
   "outputs": [
    {
     "data": {
      "text/plain": [
       "customerid\n",
       "C1010011    5106.0\n",
       "C1010012    1499.0\n",
       "C1010014    1455.0\n",
       "C1010018      30.0\n",
       "C1010024    5000.0\n",
       "Name: transactionamount (inr), dtype: float64"
      ]
     },
     "execution_count": 123,
     "metadata": {},
     "output_type": "execute_result"
    }
   ],
   "source": [
    "Monetary.head()"
   ]
  },
  {
   "cell_type": "code",
   "execution_count": 36,
   "id": "5768080f-d279-4d83-b75c-566808029d34",
   "metadata": {},
   "outputs": [
    {
     "name": "stdout",
     "output_type": "stream",
     "text": [
      "\n",
      "Total Spending per Customer:\n",
      " customerid\n",
      "C1    98500\n",
      "C2    47200\n",
      "C3    23000\n",
      "C4    60000\n",
      "C5     5000\n",
      "C6    11000\n",
      "C7    99000\n",
      "Name: transactionamount, dtype: int64\n"
     ]
    },
    {
     "data": {
      "image/png": "[encoded data removed]",
      "text/plain": [
       "<Figure size 800x500 with 1 Axes>"
      ]
     },
     "metadata": {},
     "output_type": "display_data"
    }
   ],
   "source": [
    "import pandas as pd\n",
    "import matplotlib.pyplot as plt\n",
    "import seaborn as sns\n",
    "\n",
    "# Sample transaction data\n",
    "data = pd.DataFrame({\n",
    "    'customerid': ['C1', 'C2', 'C3', 'C4', 'C5', 'C6', 'C7'],\n",
    "    'transactionamount': [98500, 47200, 23000, 60000, 5000, 11000, 99000]\n",
    "})\n",
    "\n",
    "# Group transactions by customer and sum amounts\n",
    "customer_spending = data.groupby('customerid')['transactionamount'].sum()\n",
    "\n",
    "print(\"\\nTotal Spending per Customer:\\n\", customer_spending)\n",
    "\n",
    "# Visualization (percentage only)\n",
    "customer_spending_percentage = (customer_spending / customer_spending.sum()) * 100\n",
    "\n",
    "plt.figure(figsize=(8, 5))\n",
    "ax = sns.barplot(x=customer_spending.index, y=customer_spending_percentage)\n",
    "\n",
    "# Add percentage labels inside bars\n",
    "for i, v in enumerate(customer_spending_percentage):\n",
    "    ax.text(i, v - 1, f\"{v:.2f}%\", ha='center', fontsize=12, fontweight='bold', color='white')\n",
    "\n",
    "plt.title('Total Spending per Customer')\n",
    "plt.xlabel('Customer ID')\n",
    "plt.ylabel('Percentage of Total Spending')\n",
    "plt.show()"
   ]
  },
  {
   "cell_type": "code",
   "execution_count": null,
   "id": "4f42ca12-8eee-469f-8114-0561316d2473",
   "metadata": {},
   "outputs": [],
   "source": []
  },
  {
   "cell_type": "code",
   "execution_count": null,
   "id": "4d0d58ad-d075-4f42-9004-0260f0c4e897",
   "metadata": {},
   "outputs": [],
   "source": []
  },
  {
   "cell_type": "code",
   "execution_count": 38,
   "id": "03d2a8a8-628a-4829-8464-8d6338e6262a",
   "metadata": {},
   "outputs": [
    {
     "data": {
      "image/png": "[encoded data removed]",
      "text/plain": [
       "<Figure size 800x500 with 1 Axes>"
      ]
     },
     "metadata": {},
     "output_type": "display_data"
    }
   ],
   "source": [
    "plt.figure(figsize=(8, 5))\n",
    "sns.histplot(data['transactionamount'], bins=10, kde=True)\n",
    "\n",
    "plt.title('Spending Distribution Across Customers')\n",
    "plt.xlabel('Transaction Amount')\n",
    "plt.ylabel('Number of Customers')\n",
    "plt.show()"
   ]
  },
  {
   "cell_type": "code",
   "execution_count": 39,
   "id": "aa9dfbc9-4d71-46b9-a9c4-f2f48f9ad9e2",
   "metadata": {},
   "outputs": [
    {
     "data": {
      "image/png": "[encoded data removed]",
      "text/plain": [
       "<Figure size 600x400 with 1 Axes>"
      ]
     },
     "metadata": {},
     "output_type": "display_data"
    }
   ],
   "source": [
    "import numpy as np\n",
    "\n",
    "# Sample transaction frequency data\n",
    "data['transactioncount'] = np.random.randint(1, 50, size=len(data))\n",
    "\n",
    "# Scatterplot to visualize correlation\n",
    "plt.figure(figsize=(6, 4))\n",
    "sns.scatterplot(x=data['transactioncount'], y=data['transactionamount'])\n",
    "\n",
    "plt.title('Transaction Frequency vs. Amount Spent')\n",
    "plt.xlabel('Transaction Count')\n",
    "plt.ylabel('Total Transaction Amount (INR)')\n",
    "plt.show()"
   ]
  },
  {
   "cell_type": "code",
   "execution_count": 43,
   "id": "4498b919-8108-44f4-b0c2-3b548d5ddefc",
   "metadata": {},
   "outputs": [
    {
     "name": "stdout",
     "output_type": "stream",
     "text": [
      "\n",
      "Customer Segmentation by Spending:\n",
      " SpendingSegment\n",
      "Medium-Spender    42.857143\n",
      "High-Spender      42.857143\n",
      "Low-Spender       14.285714\n",
      "VIP                0.000000\n",
      "Name: count, dtype: float64\n"
     ]
    },
    {
     "data": {
      "image/png": "[encoded data removed]",
      "text/plain": [
       "<Figure size 800x500 with 1 Axes>"
      ]
     },
     "metadata": {},
     "output_type": "display_data"
    }
   ],
   "source": [
    "import pandas as pd\n",
    "import matplotlib.pyplot as plt\n",
    "import seaborn as sns\n",
    "\n",
    "# Sample transaction data\n",
    "data = pd.DataFrame({\n",
    "    'customerid': ['C1', 'C2', 'C3', 'C4', 'C5', 'C6', 'C7'],\n",
    "    'transactionamount': [98500, 47200, 23000, 60000, 5000, 11000, 99000]\n",
    "})\n",
    "\n",
    "# Define spending tiers\n",
    "bins = [0, 10000, 50000, 100000, float(\"inf\")]\n",
    "labels = [\"Low-Spender\", \"Medium-Spender\", \"High-Spender\", \"VIP\"]\n",
    "data['SpendingSegment'] = pd.cut(data['transactionamount'], bins=bins, labels=labels)\n",
    "\n",
    "# Count spending segments\n",
    "spending_segment_counts = data['SpendingSegment'].value_counts()\n",
    "spending_segment_percentage = (spending_segment_counts / spending_segment_counts.sum()) * 100\n",
    "\n",
    "print(\"\\nCustomer Segmentation by Spending:\\n\", spending_segment_percentage)\n",
    "\n",
    "# Visualization (percentage only)\n",
    "plt.figure(figsize=(8, 5))\n",
    "ax = sns.barplot(x=spending_segment_counts.index, y=spending_segment_percentage)\n",
    "\n",
    "# Set y-axis limit for better visibility\n",
    "plt.ylim(0, spending_segment_percentage.max() + 5)\n",
    "\n",
    "# Add percentage labels inside bars\n",
    "for i, v in enumerate(spending_segment_percentage):\n",
    "    ax.text(i, v - 1, f\"{v:.2f}%\", ha='center', fontsize=12, fontweight='bold', color='white')\n",
    "\n",
    "plt.title('Customer Segmentation by Spending')\n",
    "plt.xlabel('Spending Segment')\n",
    "plt.ylabel('Percentage of Customers')\n",
    "plt.show()"
   ]
  },
  {
   "cell_type": "code",
   "execution_count": null,
   "id": "95730bc9-11ac-4de7-9a6a-fc74bf8a3647",
   "metadata": {},
   "outputs": [],
   "source": []
  },
  {
   "cell_type": "markdown",
   "id": "4819ef7f-ac06-4a92-9b5d-a91de75bb02b",
   "metadata": {},
   "source": [
    "## Create RFM Table"
   ]
  },
  {
   "cell_type": "code",
   "execution_count": 125,
   "id": "12e2db64-f598-4514-9662-a2b4982c8eec",
   "metadata": {},
   "outputs": [],
   "source": [
    "RFM_table = pd.concat([Recency, Frequency, Monetary], axis=1)"
   ]
  },
  {
   "cell_type": "code",
   "execution_count": 126,
   "id": "98552ad9-8349-4d59-8c8d-db12811013c3",
   "metadata": {},
   "outputs": [
    {
     "data": {
      "text/html": [
       "<div>\n",
       "<style scoped>\n",
       "    .dataframe tbody tr th:only-of-type {\n",
       "        vertical-align: middle;\n",
       "    }\n",
       "\n",
       "    .dataframe tbody tr th {\n",
       "        vertical-align: top;\n",
       "    }\n",
       "\n",
       "    .dataframe thead th {\n",
       "        text-align: right;\n",
       "    }\n",
       "</style>\n",
       "<table border=\"1\" class=\"dataframe\">\n",
       "  <thead>\n",
       "    <tr style=\"text-align: right;\">\n",
       "      <th></th>\n",
       "      <th>transactiondate</th>\n",
       "      <th>transactionid</th>\n",
       "      <th>transactionamount (inr)</th>\n",
       "    </tr>\n",
       "    <tr>\n",
       "      <th>customerid</th>\n",
       "      <th></th>\n",
       "      <th></th>\n",
       "      <th></th>\n",
       "    </tr>\n",
       "  </thead>\n",
       "  <tbody>\n",
       "    <tr>\n",
       "      <th>C1010011</th>\n",
       "      <td>3138</td>\n",
       "      <td>2</td>\n",
       "      <td>5106.0</td>\n",
       "    </tr>\n",
       "    <tr>\n",
       "      <th>C1010012</th>\n",
       "      <td>3181</td>\n",
       "      <td>1</td>\n",
       "      <td>1499.0</td>\n",
       "    </tr>\n",
       "    <tr>\n",
       "      <th>C1010014</th>\n",
       "      <td>3218</td>\n",
       "      <td>2</td>\n",
       "      <td>1455.0</td>\n",
       "    </tr>\n",
       "    <tr>\n",
       "      <th>C1010018</th>\n",
       "      <td>3149</td>\n",
       "      <td>1</td>\n",
       "      <td>30.0</td>\n",
       "    </tr>\n",
       "    <tr>\n",
       "      <th>C1010024</th>\n",
       "      <td>3177</td>\n",
       "      <td>1</td>\n",
       "      <td>5000.0</td>\n",
       "    </tr>\n",
       "  </tbody>\n",
       "</table>\n",
       "</div>"
      ],
      "text/plain": [
       "            transactiondate  transactionid  transactionamount (inr)\n",
       "customerid                                                         \n",
       "C1010011               3138              2                   5106.0\n",
       "C1010012               3181              1                   1499.0\n",
       "C1010014               3218              2                   1455.0\n",
       "C1010018               3149              1                     30.0\n",
       "C1010024               3177              1                   5000.0"
      ]
     },
     "execution_count": 126,
     "metadata": {},
     "output_type": "execute_result"
    }
   ],
   "source": [
    "RFM_table.head()"
   ]
  },
  {
   "cell_type": "code",
   "execution_count": 131,
   "id": "90f26918-d4cd-432f-864c-341b292fcb03",
   "metadata": {},
   "outputs": [],
   "source": [
    "RFM_table = RFM_table.rename(columns={\n",
    "    \"TransactionDate\": \"recency\", \n",
    "    \"Transaction ID\": \"frequency\", \n",
    "    \"TransactionAmount (INR)\": \"Monetary\"\n",
    "})\n"
   ]
  },
  {
   "cell_type": "code",
   "execution_count": 133,
   "id": "cb47fb70-74ad-4f11-9f1d-9325609a79c8",
   "metadata": {},
   "outputs": [
    {
     "name": "stdout",
     "output_type": "stream",
     "text": [
      "Index(['transactiondate', 'transactionid', 'transactionamount (inr)'], dtype='object')\n"
     ]
    }
   ],
   "source": [
    "print(RFM_table.columns)"
   ]
  },
  {
   "cell_type": "code",
   "execution_count": 134,
   "id": "aacb9438-7ccb-4206-9fe5-08b8b3fa312e",
   "metadata": {},
   "outputs": [],
   "source": [
    "RFM_table = RFM_table.rename(columns={\n",
    "    \"transactiondate\": \"recency\", \n",
    "    \"transactionid\": \"frequency\", \n",
    "    \"transactionamount (inr)\": \"monetary\"\n",
    "})"
   ]
  },
  {
   "cell_type": "code",
   "execution_count": 135,
   "id": "b341b836-ba50-4ee3-a09c-383c54629067",
   "metadata": {},
   "outputs": [
    {
     "name": "stdout",
     "output_type": "stream",
     "text": [
      "            recency  frequency  monetary\n",
      "customerid                              \n",
      "C1010011       3138          2    5106.0\n",
      "C1010012       3181          1    1499.0\n",
      "C1010014       3218          2    1455.0\n",
      "C1010018       3149          1      30.0\n",
      "C1010024       3177          1    5000.0\n"
     ]
    }
   ],
   "source": [
    "print(RFM_table.head())"
   ]
  },
  {
   "cell_type": "code",
   "execution_count": null,
   "id": "0a724aa5-f116-49c6-9162-96ccb9f9e250",
   "metadata": {},
   "outputs": [],
   "source": []
  },
  {
   "cell_type": "code",
   "execution_count": null,
   "id": "3c06006e-9a99-4f4c-9b17-e7ffc29157c8",
   "metadata": {},
   "outputs": [],
   "source": []
  },
  {
   "cell_type": "code",
   "execution_count": null,
   "id": "378c3542-3b07-4ac0-a09a-28500b11bf8e",
   "metadata": {},
   "outputs": [],
   "source": []
  },
  {
   "cell_type": "markdown",
   "id": "142f244f-0db0-41dd-a561-73e2270832c5",
   "metadata": {},
   "source": [
    "## Explore RFM Table"
   ]
  },
  {
   "cell_type": "code",
   "execution_count": 136,
   "id": "38dc3486-db29-493b-8773-ff3dfa79e3a6",
   "metadata": {},
   "outputs": [
    {
     "data": {
      "image/png": "[encoded data removed]",
      "text/plain": [
       "<Figure size 1500x500 with 3 Axes>"
      ]
     },
     "metadata": {},
     "output_type": "display_data"
    }
   ],
   "source": [
    "# Explore RFM Table\n",
    "fig, axis = plt.subplots(1, 3, figsize=(15, 5))  # Corrected to `plt.subplots`\n",
    "columns = [\"recency\", \"frequency\", \"monetary\"]  # Ensure column names match RFM_table\n",
    "\n",
    "for i, col in enumerate(columns):  # Use enumerate to loop through columns\n",
    "    axis[i].hist(RFM_table[col], bins=10, color=\"purple\", edgecolor=\"blue\")  # Fix parameters\n",
    "    axis[i].set_title(col.capitalize())  # Capitalize column name for title\n",
    "    axis[i].set_xlabel(\"Days\" if col == \"recency\" else \"Count\" if col == \"frequency\" else \"INR\")  # Conditional label\n",
    "    axis[i].set_ylabel(\"Frequency\")  # Set Y-axis label\n",
    "\n",
    "plt.tight_layout()  # Corrected typo in layout function\n",
    "plt.show()"
   ]
  },
  {
   "cell_type": "code",
   "execution_count": null,
   "id": "71aaabbe-70de-4355-b876-dbf8148984c6",
   "metadata": {},
   "outputs": [],
   "source": []
  },
  {
   "cell_type": "code",
   "execution_count": 137,
   "id": "1c8c8207-269a-482c-bba0-8c8841b416a0",
   "metadata": {},
   "outputs": [
    {
     "data": {
      "image/png": "[encoded data removed]",
      "text/plain": [
       "<Figure size 800x600 with 1 Axes>"
      ]
     },
     "metadata": {},
     "output_type": "display_data"
    }
   ],
   "source": [
    "plt.figure(figsize=(8, 6))\n",
    "plt.hist(RFM_table[\"monetary\"], bins=np.logspace(0, 5, 20), color=\"purple\", edgecolor=\"black\")  # Fixed typos\n",
    "plt.title(\"Monetary Value\")\n",
    "plt.xlabel(\"Monetary Value (Log Scale)\")  # Fixed typo in xlabel\n",
    "plt.ylabel(\"Frequency (Log Scale)\")      # Fixed typo in ylabel\n",
    "plt.xscale(\"log\")\n",
    "plt.yscale(\"log\")\n",
    "plt.show()"
   ]
  },
  {
   "cell_type": "code",
   "execution_count": 138,
   "id": "36fb079b-d5ac-4de3-8ea5-8537199c0be5",
   "metadata": {},
   "outputs": [
    {
     "data": {
      "text/html": [
       "<div>\n",
       "<style scoped>\n",
       "    .dataframe tbody tr th:only-of-type {\n",
       "        vertical-align: middle;\n",
       "    }\n",
       "\n",
       "    .dataframe tbody tr th {\n",
       "        vertical-align: top;\n",
       "    }\n",
       "\n",
       "    .dataframe thead th {\n",
       "        text-align: right;\n",
       "    }\n",
       "</style>\n",
       "<table border=\"1\" class=\"dataframe\">\n",
       "  <thead>\n",
       "    <tr style=\"text-align: right;\">\n",
       "      <th></th>\n",
       "      <th>recency</th>\n",
       "      <th>frequency</th>\n",
       "      <th>monetary</th>\n",
       "    </tr>\n",
       "  </thead>\n",
       "  <tbody>\n",
       "    <tr>\n",
       "      <th>recency</th>\n",
       "      <td>1.000000</td>\n",
       "      <td>-0.207705</td>\n",
       "      <td>-0.018321</td>\n",
       "    </tr>\n",
       "    <tr>\n",
       "      <th>frequency</th>\n",
       "      <td>-0.207705</td>\n",
       "      <td>1.000000</td>\n",
       "      <td>0.097491</td>\n",
       "    </tr>\n",
       "    <tr>\n",
       "      <th>monetary</th>\n",
       "      <td>-0.018321</td>\n",
       "      <td>0.097491</td>\n",
       "      <td>1.000000</td>\n",
       "    </tr>\n",
       "  </tbody>\n",
       "</table>\n",
       "</div>"
      ],
      "text/plain": [
       "            recency  frequency  monetary\n",
       "recency    1.000000  -0.207705 -0.018321\n",
       "frequency -0.207705   1.000000  0.097491\n",
       "monetary  -0.018321   0.097491  1.000000"
      ]
     },
     "execution_count": 138,
     "metadata": {},
     "output_type": "execute_result"
    }
   ],
   "source": [
    "RFM_table.corr()"
   ]
  },
  {
   "cell_type": "code",
   "execution_count": 50,
   "id": "4bae98ec-ae15-4869-bd1b-d98c0322359f",
   "metadata": {},
   "outputs": [
    {
     "ename": "NameError",
     "evalue": "name 'RFM_table' is not defined",
     "output_type": "error",
     "traceback": [
      "\u001b[1;31m---------------------------------------------------------------------------\u001b[0m",
      "\u001b[1;31mNameError\u001b[0m                                 Traceback (most recent call last)",
      "Cell \u001b[1;32mIn[50], line 1\u001b[0m\n\u001b[1;32m----> 1\u001b[0m RFM_table\u001b[38;5;241m.\u001b[39mhead()\n",
      "\u001b[1;31mNameError\u001b[0m: name 'RFM_table' is not defined"
     ]
    }
   ],
   "source": [
    "RFM_table.head()"
   ]
  },
  {
   "cell_type": "code",
   "execution_count": 51,
   "id": "668a970d-a3ad-4a2b-91f8-133ca3e639ee",
   "metadata": {},
   "outputs": [
    {
     "data": {
      "text/html": [
       "<div>\n",
       "<style scoped>\n",
       "    .dataframe tbody tr th:only-of-type {\n",
       "        vertical-align: middle;\n",
       "    }\n",
       "\n",
       "    .dataframe tbody tr th {\n",
       "        vertical-align: top;\n",
       "    }\n",
       "\n",
       "    .dataframe thead th {\n",
       "        text-align: right;\n",
       "    }\n",
       "</style>\n",
       "<table border=\"1\" class=\"dataframe\">\n",
       "  <thead>\n",
       "    <tr style=\"text-align: right;\">\n",
       "      <th></th>\n",
       "      <th>TransactionID</th>\n",
       "      <th>CustomerID</th>\n",
       "      <th>CustomerDOB</th>\n",
       "      <th>CustGender</th>\n",
       "      <th>CustLocation</th>\n",
       "      <th>CustAccountBalance</th>\n",
       "      <th>TransactionDate</th>\n",
       "      <th>TransactionTime</th>\n",
       "      <th>TransactionAmount (INR)</th>\n",
       "    </tr>\n",
       "  </thead>\n",
       "  <tbody>\n",
       "    <tr>\n",
       "      <th>0</th>\n",
       "      <td>T1</td>\n",
       "      <td>C5841053</td>\n",
       "      <td>10/1/94</td>\n",
       "      <td>F</td>\n",
       "      <td>JAMSHEDPUR</td>\n",
       "      <td>17819.05</td>\n",
       "      <td>2/8/16</td>\n",
       "      <td>143207</td>\n",
       "      <td>25.0</td>\n",
       "    </tr>\n",
       "    <tr>\n",
       "      <th>1</th>\n",
       "      <td>T2</td>\n",
       "      <td>C2142763</td>\n",
       "      <td>4/4/57</td>\n",
       "      <td>M</td>\n",
       "      <td>JHAJJAR</td>\n",
       "      <td>2270.69</td>\n",
       "      <td>2/8/16</td>\n",
       "      <td>141858</td>\n",
       "      <td>27999.0</td>\n",
       "    </tr>\n",
       "    <tr>\n",
       "      <th>2</th>\n",
       "      <td>T3</td>\n",
       "      <td>C4417068</td>\n",
       "      <td>26/11/96</td>\n",
       "      <td>F</td>\n",
       "      <td>MUMBAI</td>\n",
       "      <td>17874.44</td>\n",
       "      <td>2/8/16</td>\n",
       "      <td>142712</td>\n",
       "      <td>459.0</td>\n",
       "    </tr>\n",
       "    <tr>\n",
       "      <th>3</th>\n",
       "      <td>T4</td>\n",
       "      <td>C5342380</td>\n",
       "      <td>14/9/73</td>\n",
       "      <td>F</td>\n",
       "      <td>MUMBAI</td>\n",
       "      <td>866503.21</td>\n",
       "      <td>2/8/16</td>\n",
       "      <td>142714</td>\n",
       "      <td>2060.0</td>\n",
       "    </tr>\n",
       "    <tr>\n",
       "      <th>4</th>\n",
       "      <td>T5</td>\n",
       "      <td>C9031234</td>\n",
       "      <td>24/3/88</td>\n",
       "      <td>F</td>\n",
       "      <td>NAVI MUMBAI</td>\n",
       "      <td>6714.43</td>\n",
       "      <td>2/8/16</td>\n",
       "      <td>181156</td>\n",
       "      <td>1762.5</td>\n",
       "    </tr>\n",
       "  </tbody>\n",
       "</table>\n",
       "</div>"
      ],
      "text/plain": [
       "  TransactionID CustomerID CustomerDOB CustGender CustLocation  \\\n",
       "0            T1   C5841053     10/1/94          F   JAMSHEDPUR   \n",
       "1            T2   C2142763      4/4/57          M      JHAJJAR   \n",
       "2            T3   C4417068    26/11/96          F       MUMBAI   \n",
       "3            T4   C5342380     14/9/73          F       MUMBAI   \n",
       "4            T5   C9031234     24/3/88          F  NAVI MUMBAI   \n",
       "\n",
       "   CustAccountBalance TransactionDate  TransactionTime  \\\n",
       "0            17819.05          2/8/16           143207   \n",
       "1             2270.69          2/8/16           141858   \n",
       "2            17874.44          2/8/16           142712   \n",
       "3           866503.21          2/8/16           142714   \n",
       "4             6714.43          2/8/16           181156   \n",
       "\n",
       "   TransactionAmount (INR)  \n",
       "0                     25.0  \n",
       "1                  27999.0  \n",
       "2                    459.0  \n",
       "3                   2060.0  \n",
       "4                   1762.5  "
      ]
     },
     "execution_count": 51,
     "metadata": {},
     "output_type": "execute_result"
    }
   ],
   "source": [
    "import pandas as pd\n",
    "\n",
    "# Load your dataset\n",
    "df = pd.read_csv('bank_data_C.csv')\n",
    "\n",
    "# (Optional) Preview to confirm it's loaded\n",
    "df.head()\n"
   ]
  },
  {
   "cell_type": "code",
   "execution_count": 53,
   "id": "7a6ad29f-7077-429d-b92d-bf994ce5521f",
   "metadata": {},
   "outputs": [],
   "source": [
    "df['TransactionDate'] = pd.to_datetime(df['TransactionDate'], format='%d/%m/%y')\n"
   ]
  },
  {
   "cell_type": "code",
   "execution_count": 54,
   "id": "6daf4ef7-b2d6-463c-baa0-b5059e8bdf9b",
   "metadata": {},
   "outputs": [
    {
     "data": {
      "text/html": [
       "<div>\n",
       "<style scoped>\n",
       "    .dataframe tbody tr th:only-of-type {\n",
       "        vertical-align: middle;\n",
       "    }\n",
       "\n",
       "    .dataframe tbody tr th {\n",
       "        vertical-align: top;\n",
       "    }\n",
       "\n",
       "    .dataframe thead th {\n",
       "        text-align: right;\n",
       "    }\n",
       "</style>\n",
       "<table border=\"1\" class=\"dataframe\">\n",
       "  <thead>\n",
       "    <tr style=\"text-align: right;\">\n",
       "      <th></th>\n",
       "      <th>CustomerID</th>\n",
       "      <th>Recency</th>\n",
       "      <th>Frequency</th>\n",
       "      <th>Monetary</th>\n",
       "    </tr>\n",
       "  </thead>\n",
       "  <tbody>\n",
       "    <tr>\n",
       "      <th>0</th>\n",
       "      <td>C1010011</td>\n",
       "      <td>26</td>\n",
       "      <td>2</td>\n",
       "      <td>5106.0</td>\n",
       "    </tr>\n",
       "    <tr>\n",
       "      <th>1</th>\n",
       "      <td>C1010012</td>\n",
       "      <td>69</td>\n",
       "      <td>1</td>\n",
       "      <td>1499.0</td>\n",
       "    </tr>\n",
       "    <tr>\n",
       "      <th>2</th>\n",
       "      <td>C1010014</td>\n",
       "      <td>76</td>\n",
       "      <td>2</td>\n",
       "      <td>1455.0</td>\n",
       "    </tr>\n",
       "    <tr>\n",
       "      <th>3</th>\n",
       "      <td>C1010018</td>\n",
       "      <td>37</td>\n",
       "      <td>1</td>\n",
       "      <td>30.0</td>\n",
       "    </tr>\n",
       "    <tr>\n",
       "      <th>4</th>\n",
       "      <td>C1010024</td>\n",
       "      <td>65</td>\n",
       "      <td>1</td>\n",
       "      <td>5000.0</td>\n",
       "    </tr>\n",
       "  </tbody>\n",
       "</table>\n",
       "</div>"
      ],
      "text/plain": [
       "  CustomerID  Recency  Frequency  Monetary\n",
       "0   C1010011       26          2    5106.0\n",
       "1   C1010012       69          1    1499.0\n",
       "2   C1010014       76          2    1455.0\n",
       "3   C1010018       37          1      30.0\n",
       "4   C1010024       65          1    5000.0"
      ]
     },
     "execution_count": 54,
     "metadata": {},
     "output_type": "execute_result"
    }
   ],
   "source": [
    "# Set snapshot date\n",
    "snapshot_date = df['TransactionDate'].max() + pd.Timedelta(days=1)\n",
    "\n",
    "# Build the RFM table\n",
    "RFM_table = df.groupby('CustomerID').agg({\n",
    "    'TransactionDate': lambda x: (snapshot_date - x.max()).days,\n",
    "    'TransactionID': 'count',\n",
    "    'TransactionAmount (INR)': 'sum'\n",
    "}).reset_index()\n",
    "\n",
    "# Rename columns\n",
    "RFM_table.columns = ['CustomerID', 'Recency', 'Frequency', 'Monetary']\n",
    "\n",
    "# Preview\n",
    "RFM_table.head()\n"
   ]
  },
  {
   "cell_type": "code",
   "execution_count": 55,
   "id": "4656f9fe-f8fd-4ed3-b682-9ff89cb3844e",
   "metadata": {},
   "outputs": [
    {
     "data": {
      "text/html": [
       "<div>\n",
       "<style scoped>\n",
       "    .dataframe tbody tr th:only-of-type {\n",
       "        vertical-align: middle;\n",
       "    }\n",
       "\n",
       "    .dataframe tbody tr th {\n",
       "        vertical-align: top;\n",
       "    }\n",
       "\n",
       "    .dataframe thead th {\n",
       "        text-align: right;\n",
       "    }\n",
       "</style>\n",
       "<table border=\"1\" class=\"dataframe\">\n",
       "  <thead>\n",
       "    <tr style=\"text-align: right;\">\n",
       "      <th></th>\n",
       "      <th>CustomerID</th>\n",
       "      <th>Recency</th>\n",
       "      <th>Frequency</th>\n",
       "      <th>Monetary</th>\n",
       "    </tr>\n",
       "  </thead>\n",
       "  <tbody>\n",
       "    <tr>\n",
       "      <th>0</th>\n",
       "      <td>C1010011</td>\n",
       "      <td>26</td>\n",
       "      <td>2</td>\n",
       "      <td>5106.0</td>\n",
       "    </tr>\n",
       "    <tr>\n",
       "      <th>1</th>\n",
       "      <td>C1010012</td>\n",
       "      <td>69</td>\n",
       "      <td>1</td>\n",
       "      <td>1499.0</td>\n",
       "    </tr>\n",
       "    <tr>\n",
       "      <th>2</th>\n",
       "      <td>C1010014</td>\n",
       "      <td>76</td>\n",
       "      <td>2</td>\n",
       "      <td>1455.0</td>\n",
       "    </tr>\n",
       "    <tr>\n",
       "      <th>3</th>\n",
       "      <td>C1010018</td>\n",
       "      <td>37</td>\n",
       "      <td>1</td>\n",
       "      <td>30.0</td>\n",
       "    </tr>\n",
       "    <tr>\n",
       "      <th>4</th>\n",
       "      <td>C1010024</td>\n",
       "      <td>65</td>\n",
       "      <td>1</td>\n",
       "      <td>5000.0</td>\n",
       "    </tr>\n",
       "  </tbody>\n",
       "</table>\n",
       "</div>"
      ],
      "text/plain": [
       "  CustomerID  Recency  Frequency  Monetary\n",
       "0   C1010011       26          2    5106.0\n",
       "1   C1010012       69          1    1499.0\n",
       "2   C1010014       76          2    1455.0\n",
       "3   C1010018       37          1      30.0\n",
       "4   C1010024       65          1    5000.0"
      ]
     },
     "execution_count": 55,
     "metadata": {},
     "output_type": "execute_result"
    }
   ],
   "source": [
    "RFM_table.head()"
   ]
  },
  {
   "cell_type": "code",
   "execution_count": 56,
   "id": "e25abf5d-459c-40b4-bb65-eecc4edb0497",
   "metadata": {},
   "outputs": [
    {
     "data": {
      "text/html": [
       "<div>\n",
       "<style scoped>\n",
       "    .dataframe tbody tr th:only-of-type {\n",
       "        vertical-align: middle;\n",
       "    }\n",
       "\n",
       "    .dataframe tbody tr th {\n",
       "        vertical-align: top;\n",
       "    }\n",
       "\n",
       "    .dataframe thead th {\n",
       "        text-align: right;\n",
       "    }\n",
       "</style>\n",
       "<table border=\"1\" class=\"dataframe\">\n",
       "  <thead>\n",
       "    <tr style=\"text-align: right;\">\n",
       "      <th></th>\n",
       "      <th>CustomerID</th>\n",
       "      <th>Recency</th>\n",
       "      <th>Frequency</th>\n",
       "      <th>Monetary</th>\n",
       "    </tr>\n",
       "  </thead>\n",
       "  <tbody>\n",
       "    <tr>\n",
       "      <th>0</th>\n",
       "      <td>C1010011</td>\n",
       "      <td>26</td>\n",
       "      <td>2</td>\n",
       "      <td>5106.0</td>\n",
       "    </tr>\n",
       "    <tr>\n",
       "      <th>1</th>\n",
       "      <td>C1010012</td>\n",
       "      <td>69</td>\n",
       "      <td>1</td>\n",
       "      <td>1499.0</td>\n",
       "    </tr>\n",
       "    <tr>\n",
       "      <th>2</th>\n",
       "      <td>C1010014</td>\n",
       "      <td>76</td>\n",
       "      <td>2</td>\n",
       "      <td>1455.0</td>\n",
       "    </tr>\n",
       "    <tr>\n",
       "      <th>3</th>\n",
       "      <td>C1010018</td>\n",
       "      <td>37</td>\n",
       "      <td>1</td>\n",
       "      <td>30.0</td>\n",
       "    </tr>\n",
       "    <tr>\n",
       "      <th>4</th>\n",
       "      <td>C1010024</td>\n",
       "      <td>65</td>\n",
       "      <td>1</td>\n",
       "      <td>5000.0</td>\n",
       "    </tr>\n",
       "  </tbody>\n",
       "</table>\n",
       "</div>"
      ],
      "text/plain": [
       "  CustomerID  Recency  Frequency  Monetary\n",
       "0   C1010011       26          2    5106.0\n",
       "1   C1010012       69          1    1499.0\n",
       "2   C1010014       76          2    1455.0\n",
       "3   C1010018       37          1      30.0\n",
       "4   C1010024       65          1    5000.0"
      ]
     },
     "execution_count": 56,
     "metadata": {},
     "output_type": "execute_result"
    }
   ],
   "source": [
    "RFM_table = df.groupby('CustomerID').agg({\n",
    "    'TransactionDate': lambda x: (snapshot_date - x.max()).days,\n",
    "    'TransactionID': 'count',\n",
    "    'TransactionAmount (INR)': 'sum'\n",
    "}).reset_index()\n",
    "\n",
    "RFM_table.columns = ['CustomerID', 'Recency', 'Frequency', 'Monetary']\n",
    "\n",
    "RFM_table.head()  # Last line to display output\n"
   ]
  },
  {
   "cell_type": "code",
   "execution_count": 57,
   "id": "9c27f79c-cd22-4044-bd3f-64487d651d28",
   "metadata": {},
   "outputs": [
    {
     "data": {
      "text/plain": [
       "Index(['TransactionID', 'CustomerID', 'CustomerDOB', 'CustGender',\n",
       "       'CustLocation', 'CustAccountBalance', 'TransactionDate',\n",
       "       'TransactionTime', 'TransactionAmount (INR)'],\n",
       "      dtype='object')"
      ]
     },
     "execution_count": 57,
     "metadata": {},
     "output_type": "execute_result"
    }
   ],
   "source": [
    "df.columns"
   ]
  },
  {
   "cell_type": "code",
   "execution_count": 58,
   "id": "674282a2-6ffb-4fce-8f86-027ffdbb2bf1",
   "metadata": {},
   "outputs": [
    {
     "data": {
      "text/html": [
       "<div>\n",
       "<style scoped>\n",
       "    .dataframe tbody tr th:only-of-type {\n",
       "        vertical-align: middle;\n",
       "    }\n",
       "\n",
       "    .dataframe tbody tr th {\n",
       "        vertical-align: top;\n",
       "    }\n",
       "\n",
       "    .dataframe thead th {\n",
       "        text-align: right;\n",
       "    }\n",
       "</style>\n",
       "<table border=\"1\" class=\"dataframe\">\n",
       "  <thead>\n",
       "    <tr style=\"text-align: right;\">\n",
       "      <th></th>\n",
       "      <th>TransactionID</th>\n",
       "      <th>CustomerID</th>\n",
       "      <th>CustomerDOB</th>\n",
       "      <th>CustGender</th>\n",
       "      <th>CustLocation</th>\n",
       "      <th>CustAccountBalance</th>\n",
       "      <th>TransactionDate</th>\n",
       "      <th>TransactionTime</th>\n",
       "      <th>TransactionAmount (INR)</th>\n",
       "    </tr>\n",
       "  </thead>\n",
       "  <tbody>\n",
       "    <tr>\n",
       "      <th>0</th>\n",
       "      <td>T1</td>\n",
       "      <td>C5841053</td>\n",
       "      <td>10/1/94</td>\n",
       "      <td>F</td>\n",
       "      <td>JAMSHEDPUR</td>\n",
       "      <td>17819.05</td>\n",
       "      <td>2/8/16</td>\n",
       "      <td>143207</td>\n",
       "      <td>25.0</td>\n",
       "    </tr>\n",
       "    <tr>\n",
       "      <th>1</th>\n",
       "      <td>T2</td>\n",
       "      <td>C2142763</td>\n",
       "      <td>4/4/57</td>\n",
       "      <td>M</td>\n",
       "      <td>JHAJJAR</td>\n",
       "      <td>2270.69</td>\n",
       "      <td>2/8/16</td>\n",
       "      <td>141858</td>\n",
       "      <td>27999.0</td>\n",
       "    </tr>\n",
       "    <tr>\n",
       "      <th>2</th>\n",
       "      <td>T3</td>\n",
       "      <td>C4417068</td>\n",
       "      <td>26/11/96</td>\n",
       "      <td>F</td>\n",
       "      <td>MUMBAI</td>\n",
       "      <td>17874.44</td>\n",
       "      <td>2/8/16</td>\n",
       "      <td>142712</td>\n",
       "      <td>459.0</td>\n",
       "    </tr>\n",
       "    <tr>\n",
       "      <th>3</th>\n",
       "      <td>T4</td>\n",
       "      <td>C5342380</td>\n",
       "      <td>14/9/73</td>\n",
       "      <td>F</td>\n",
       "      <td>MUMBAI</td>\n",
       "      <td>866503.21</td>\n",
       "      <td>2/8/16</td>\n",
       "      <td>142714</td>\n",
       "      <td>2060.0</td>\n",
       "    </tr>\n",
       "    <tr>\n",
       "      <th>4</th>\n",
       "      <td>T5</td>\n",
       "      <td>C9031234</td>\n",
       "      <td>24/3/88</td>\n",
       "      <td>F</td>\n",
       "      <td>NAVI MUMBAI</td>\n",
       "      <td>6714.43</td>\n",
       "      <td>2/8/16</td>\n",
       "      <td>181156</td>\n",
       "      <td>1762.5</td>\n",
       "    </tr>\n",
       "  </tbody>\n",
       "</table>\n",
       "</div>"
      ],
      "text/plain": [
       "  TransactionID CustomerID CustomerDOB CustGender CustLocation  \\\n",
       "0            T1   C5841053     10/1/94          F   JAMSHEDPUR   \n",
       "1            T2   C2142763      4/4/57          M      JHAJJAR   \n",
       "2            T3   C4417068    26/11/96          F       MUMBAI   \n",
       "3            T4   C5342380     14/9/73          F       MUMBAI   \n",
       "4            T5   C9031234     24/3/88          F  NAVI MUMBAI   \n",
       "\n",
       "   CustAccountBalance TransactionDate  TransactionTime  \\\n",
       "0            17819.05          2/8/16           143207   \n",
       "1             2270.69          2/8/16           141858   \n",
       "2            17874.44          2/8/16           142712   \n",
       "3           866503.21          2/8/16           142714   \n",
       "4             6714.43          2/8/16           181156   \n",
       "\n",
       "   TransactionAmount (INR)  \n",
       "0                     25.0  \n",
       "1                  27999.0  \n",
       "2                    459.0  \n",
       "3                   2060.0  \n",
       "4                   1762.5  "
      ]
     },
     "execution_count": 58,
     "metadata": {},
     "output_type": "execute_result"
    }
   ],
   "source": [
    "import pandas as pd\n",
    "\n",
    "# Load the CSV file\n",
    "df = pd.read_csv('bank_data_C.csv')\n",
    "\n",
    "# Check if it loaded successfully\n",
    "df.head()\n"
   ]
  },
  {
   "cell_type": "code",
   "execution_count": 60,
   "id": "3a2b4813-c019-46d3-882d-2b9b062a31fd",
   "metadata": {},
   "outputs": [
    {
     "data": {
      "text/html": [
       "<div>\n",
       "<style scoped>\n",
       "    .dataframe tbody tr th:only-of-type {\n",
       "        vertical-align: middle;\n",
       "    }\n",
       "\n",
       "    .dataframe tbody tr th {\n",
       "        vertical-align: top;\n",
       "    }\n",
       "\n",
       "    .dataframe thead th {\n",
       "        text-align: right;\n",
       "    }\n",
       "</style>\n",
       "<table border=\"1\" class=\"dataframe\">\n",
       "  <thead>\n",
       "    <tr style=\"text-align: right;\">\n",
       "      <th></th>\n",
       "      <th>TransactionID</th>\n",
       "      <th>CustomerID</th>\n",
       "      <th>CustomerDOB</th>\n",
       "      <th>CustGender</th>\n",
       "      <th>CustLocation</th>\n",
       "      <th>CustAccountBalance</th>\n",
       "      <th>TransactionDate</th>\n",
       "      <th>TransactionTime</th>\n",
       "      <th>TransactionAmount (INR)</th>\n",
       "    </tr>\n",
       "  </thead>\n",
       "  <tbody>\n",
       "    <tr>\n",
       "      <th>0</th>\n",
       "      <td>T1</td>\n",
       "      <td>C5841053</td>\n",
       "      <td>10/1/94</td>\n",
       "      <td>F</td>\n",
       "      <td>JAMSHEDPUR</td>\n",
       "      <td>17819.05</td>\n",
       "      <td>2/8/16</td>\n",
       "      <td>143207</td>\n",
       "      <td>25.0</td>\n",
       "    </tr>\n",
       "    <tr>\n",
       "      <th>1</th>\n",
       "      <td>T2</td>\n",
       "      <td>C2142763</td>\n",
       "      <td>4/4/57</td>\n",
       "      <td>M</td>\n",
       "      <td>JHAJJAR</td>\n",
       "      <td>2270.69</td>\n",
       "      <td>2/8/16</td>\n",
       "      <td>141858</td>\n",
       "      <td>27999.0</td>\n",
       "    </tr>\n",
       "    <tr>\n",
       "      <th>2</th>\n",
       "      <td>T3</td>\n",
       "      <td>C4417068</td>\n",
       "      <td>26/11/96</td>\n",
       "      <td>F</td>\n",
       "      <td>MUMBAI</td>\n",
       "      <td>17874.44</td>\n",
       "      <td>2/8/16</td>\n",
       "      <td>142712</td>\n",
       "      <td>459.0</td>\n",
       "    </tr>\n",
       "    <tr>\n",
       "      <th>3</th>\n",
       "      <td>T4</td>\n",
       "      <td>C5342380</td>\n",
       "      <td>14/9/73</td>\n",
       "      <td>F</td>\n",
       "      <td>MUMBAI</td>\n",
       "      <td>866503.21</td>\n",
       "      <td>2/8/16</td>\n",
       "      <td>142714</td>\n",
       "      <td>2060.0</td>\n",
       "    </tr>\n",
       "    <tr>\n",
       "      <th>4</th>\n",
       "      <td>T5</td>\n",
       "      <td>C9031234</td>\n",
       "      <td>24/3/88</td>\n",
       "      <td>F</td>\n",
       "      <td>NAVI MUMBAI</td>\n",
       "      <td>6714.43</td>\n",
       "      <td>2/8/16</td>\n",
       "      <td>181156</td>\n",
       "      <td>1762.5</td>\n",
       "    </tr>\n",
       "  </tbody>\n",
       "</table>\n",
       "</div>"
      ],
      "text/plain": [
       "  TransactionID CustomerID CustomerDOB CustGender CustLocation  \\\n",
       "0            T1   C5841053     10/1/94          F   JAMSHEDPUR   \n",
       "1            T2   C2142763      4/4/57          M      JHAJJAR   \n",
       "2            T3   C4417068    26/11/96          F       MUMBAI   \n",
       "3            T4   C5342380     14/9/73          F       MUMBAI   \n",
       "4            T5   C9031234     24/3/88          F  NAVI MUMBAI   \n",
       "\n",
       "   CustAccountBalance TransactionDate  TransactionTime  \\\n",
       "0            17819.05          2/8/16           143207   \n",
       "1             2270.69          2/8/16           141858   \n",
       "2            17874.44          2/8/16           142712   \n",
       "3           866503.21          2/8/16           142714   \n",
       "4             6714.43          2/8/16           181156   \n",
       "\n",
       "   TransactionAmount (INR)  \n",
       "0                     25.0  \n",
       "1                  27999.0  \n",
       "2                    459.0  \n",
       "3                   2060.0  \n",
       "4                   1762.5  "
      ]
     },
     "execution_count": 60,
     "metadata": {},
     "output_type": "execute_result"
    }
   ],
   "source": [
    "import pandas as pd\n",
    "\n",
    "# Load your dataset using the full path\n",
    "df = pd.read_csv(r'C:\\Users\\HP\\RFM Analysis_Retail Banking\\bank_data_C.csv')\n",
    "\n",
    "# Show the first few rows to confirm it's loaded\n",
    "df.head()\n"
   ]
  },
  {
   "cell_type": "code",
   "execution_count": 65,
   "id": "edb8ad5a-e125-4d38-9d30-64944ce56350",
   "metadata": {},
   "outputs": [
    {
     "data": {
      "text/html": [
       "<div>\n",
       "<style scoped>\n",
       "    .dataframe tbody tr th:only-of-type {\n",
       "        vertical-align: middle;\n",
       "    }\n",
       "\n",
       "    .dataframe tbody tr th {\n",
       "        vertical-align: top;\n",
       "    }\n",
       "\n",
       "    .dataframe thead th {\n",
       "        text-align: right;\n",
       "    }\n",
       "</style>\n",
       "<table border=\"1\" class=\"dataframe\">\n",
       "  <thead>\n",
       "    <tr style=\"text-align: right;\">\n",
       "      <th></th>\n",
       "      <th>CustomerID</th>\n",
       "      <th>Recency</th>\n",
       "      <th>Frequency</th>\n",
       "      <th>Monetary</th>\n",
       "    </tr>\n",
       "  </thead>\n",
       "  <tbody>\n",
       "    <tr>\n",
       "      <th>0</th>\n",
       "      <td>C1010011</td>\n",
       "      <td>26</td>\n",
       "      <td>2</td>\n",
       "      <td>5106.0</td>\n",
       "    </tr>\n",
       "    <tr>\n",
       "      <th>1</th>\n",
       "      <td>C1010012</td>\n",
       "      <td>69</td>\n",
       "      <td>1</td>\n",
       "      <td>1499.0</td>\n",
       "    </tr>\n",
       "    <tr>\n",
       "      <th>2</th>\n",
       "      <td>C1010014</td>\n",
       "      <td>76</td>\n",
       "      <td>2</td>\n",
       "      <td>1455.0</td>\n",
       "    </tr>\n",
       "    <tr>\n",
       "      <th>3</th>\n",
       "      <td>C1010018</td>\n",
       "      <td>37</td>\n",
       "      <td>1</td>\n",
       "      <td>30.0</td>\n",
       "    </tr>\n",
       "    <tr>\n",
       "      <th>4</th>\n",
       "      <td>C1010024</td>\n",
       "      <td>65</td>\n",
       "      <td>1</td>\n",
       "      <td>5000.0</td>\n",
       "    </tr>\n",
       "  </tbody>\n",
       "</table>\n",
       "</div>"
      ],
      "text/plain": [
       "  CustomerID  Recency  Frequency  Monetary\n",
       "0   C1010011       26          2    5106.0\n",
       "1   C1010012       69          1    1499.0\n",
       "2   C1010014       76          2    1455.0\n",
       "3   C1010018       37          1      30.0\n",
       "4   C1010024       65          1    5000.0"
      ]
     },
     "execution_count": 65,
     "metadata": {},
     "output_type": "execute_result"
    }
   ],
   "source": [
    "RFM_table.head()\n"
   ]
  },
  {
   "cell_type": "code",
   "execution_count": 68,
   "id": "eb7734d9-6c6a-47e2-9cc9-7a3ca43d25b3",
   "metadata": {},
   "outputs": [],
   "source": [
    "RFM_table.to_csv('rfm_output.csv', index=False)\n"
   ]
  },
  {
   "cell_type": "code",
   "execution_count": 69,
   "id": "e9d9b3f2-6eeb-4348-9aac-497f24ef8dff",
   "metadata": {},
   "outputs": [
    {
     "name": "stdout",
     "output_type": "stream",
     "text": [
      "True\n"
     ]
    }
   ],
   "source": [
    "import os\n",
    "print(os.path.exists('rfm_output.csv'))\n"
   ]
  },
  {
   "cell_type": "code",
   "execution_count": 70,
   "id": "612740dd-dc50-41d5-b2fa-ca6b4819cf53",
   "metadata": {},
   "outputs": [],
   "source": [
    "RFM_table = pd.read_csv('rfm_output.csv')\n"
   ]
  },
  {
   "cell_type": "code",
   "execution_count": 71,
   "id": "f28054e5-b928-421f-80a8-d33dbddbe138",
   "metadata": {},
   "outputs": [
    {
     "data": {
      "text/html": [
       "<div>\n",
       "<style scoped>\n",
       "    .dataframe tbody tr th:only-of-type {\n",
       "        vertical-align: middle;\n",
       "    }\n",
       "\n",
       "    .dataframe tbody tr th {\n",
       "        vertical-align: top;\n",
       "    }\n",
       "\n",
       "    .dataframe thead th {\n",
       "        text-align: right;\n",
       "    }\n",
       "</style>\n",
       "<table border=\"1\" class=\"dataframe\">\n",
       "  <thead>\n",
       "    <tr style=\"text-align: right;\">\n",
       "      <th></th>\n",
       "      <th>CustomerID</th>\n",
       "      <th>Recency</th>\n",
       "      <th>Frequency</th>\n",
       "      <th>Monetary</th>\n",
       "    </tr>\n",
       "  </thead>\n",
       "  <tbody>\n",
       "    <tr>\n",
       "      <th>0</th>\n",
       "      <td>C1010011</td>\n",
       "      <td>26</td>\n",
       "      <td>2</td>\n",
       "      <td>5106.0</td>\n",
       "    </tr>\n",
       "    <tr>\n",
       "      <th>1</th>\n",
       "      <td>C1010012</td>\n",
       "      <td>69</td>\n",
       "      <td>1</td>\n",
       "      <td>1499.0</td>\n",
       "    </tr>\n",
       "    <tr>\n",
       "      <th>2</th>\n",
       "      <td>C1010014</td>\n",
       "      <td>76</td>\n",
       "      <td>2</td>\n",
       "      <td>1455.0</td>\n",
       "    </tr>\n",
       "    <tr>\n",
       "      <th>3</th>\n",
       "      <td>C1010018</td>\n",
       "      <td>37</td>\n",
       "      <td>1</td>\n",
       "      <td>30.0</td>\n",
       "    </tr>\n",
       "    <tr>\n",
       "      <th>4</th>\n",
       "      <td>C1010024</td>\n",
       "      <td>65</td>\n",
       "      <td>1</td>\n",
       "      <td>5000.0</td>\n",
       "    </tr>\n",
       "  </tbody>\n",
       "</table>\n",
       "</div>"
      ],
      "text/plain": [
       "  CustomerID  Recency  Frequency  Monetary\n",
       "0   C1010011       26          2    5106.0\n",
       "1   C1010012       69          1    1499.0\n",
       "2   C1010014       76          2    1455.0\n",
       "3   C1010018       37          1      30.0\n",
       "4   C1010024       65          1    5000.0"
      ]
     },
     "execution_count": 71,
     "metadata": {},
     "output_type": "execute_result"
    }
   ],
   "source": [
    "RFM_table.head()\n"
   ]
  },
  {
   "cell_type": "code",
   "execution_count": null,
   "id": "fa74d01e-af33-4a26-a2e4-15c501ed9d76",
   "metadata": {},
   "outputs": [],
   "source": []
  }
 ],
 "metadata": {
  "kernelspec": {
   "display_name": "Python 3 (ipykernel)",
   "language": "python",
   "name": "python3"
  },
  "language_info": {
   "codemirror_mode": {
    "name": "ipython",
    "version": 3
   },
   "file_extension": ".py",
   "mimetype": "text/x-python",
   "name": "python",
   "nbconvert_exporter": "python",
   "pygments_lexer": "ipython3",
   "version": "3.12.7"
  }
 },
 "nbformat": 4,
 "nbformat_minor": 5
}
