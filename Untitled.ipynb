{
 "cells": [
  {
   "cell_type": "code",
   "execution_count": 1,
   "id": "f6a7c9b1-a6b2-41dd-a4c9-6a251f815f3f",
   "metadata": {},
   "outputs": [
    {
     "name": "stderr",
     "output_type": "stream",
     "text": [
      "2025-05-06 17:56:03.119 \n",
      "  \u001b[33m\u001b[1mWarning:\u001b[0m to view this Streamlit app on a browser, run it with the following\n",
      "  command:\n",
      "\n",
      "    streamlit run C:\\Users\\HP\\anaconda3\\Lib\\site-packages\\ipykernel_launcher.py [ARGUMENTS]\n"
     ]
    }
   ],
   "source": [
    "import streamlit as st\n",
    "import pandas as pd\n",
    "\n",
    "# Upload CSV file\n",
    "uploaded_file = st.file_uploader(\"Upload your RFM data\", type=[\"csv\"])\n",
    "\n",
    "if uploaded_file is not None:\n",
    "    RFM_table = pd.read_csv(uploaded_file)\n",
    "    st.write(\"Here’s a preview of your data:\")\n",
    "    st.dataframe(RFM_table.head())"
   ]
  },
  {
   "cell_type": "code",
   "execution_count": null,
   "id": "86e9024b-fbc5-460d-96b4-0a754b4b570e",
   "metadata": {},
   "outputs": [],
   "source": [
    "!streamlit run rfm_streamlit_app.py"
   ]
  },
  {
   "cell_type": "code",
   "execution_count": null,
   "id": "175ef277-bff6-4325-9289-15b243b29728",
   "metadata": {},
   "outputs": [],
   "source": []
  },
  {
   "cell_type": "code",
   "execution_count": null,
   "id": "e961def3-0652-4b21-a69e-8dfd17d3bb63",
   "metadata": {},
   "outputs": [],
   "source": []
  }
 ],
 "metadata": {
  "kernelspec": {
   "display_name": "Python 3 (ipykernel)",
   "language": "python",
   "name": "python3"
  },
  "language_info": {
   "codemirror_mode": {
    "name": "ipython",
    "version": 3
   },
   "file_extension": ".py",
   "mimetype": "text/x-python",
   "name": "python",
   "nbconvert_exporter": "python",
   "pygments_lexer": "ipython3",
   "version": "3.12.7"
  }
 },
 "nbformat": 4,
 "nbformat_minor": 5
}
